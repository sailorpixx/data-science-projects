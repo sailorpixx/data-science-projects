{
 "cells": [
  {
   "cell_type": "markdown",
   "id": "7965cd0c",
   "metadata": {},
   "source": [
    "# Проект ML в бизнесе: Выбор локации для скважины"
   ]
  },
  {
   "cell_type": "markdown",
   "id": "9224282b",
   "metadata": {},
   "source": [
    "От добывающей компании «ГлавРосГосНефть» предоставлены пробы нефти в трёх регионах. Характеристики для каждой скважины в регионе уже известны. Постройте модель для определения региона, где добыча принесёт наибольшую прибыль. Проанализируйте возможную прибыль и риски техникой Bootstrap. "
   ]
  },
  {
   "cell_type": "markdown",
   "id": "bd08e73a",
   "metadata": {},
   "source": [
    "**Цель исследования**: Определить наиболее перспективный регион для бурения новой нефтяной скважины на основе предсказательной модели, оценки возможной прибыли и анализа рисков."
   ]
  },
  {
   "cell_type": "markdown",
   "id": "a71bb381",
   "metadata": {},
   "source": [
    "**Задачи исследования**:  \n",
    "\n",
    "- Загрузить и подготовить данные трёх регионов.\n",
    "- Обучить линейную регрессионную модель для предсказания объёма запасов нефти в каждой скважине.\n",
    "- Оценить качество модели на валидационной выборке по метрике RMSE и среднему предсказанному значению.\n",
    "- Рассчитать потенциальную прибыль от разработки 200 лучших скважин в каждом регионе.\n",
    "- Оценить риски и прибыль с использованием бутстрапа:\n",
    "    - Построить распределение прибыли.\n",
    "    - Рассчитать среднюю прибыль, доверительный интервал и вероятность убытков.\n",
    "- Принять решение о выборе региона с учётом прибыли и допустимого уровня риска."
   ]
  },
  {
   "cell_type": "markdown",
   "id": "2897b2ec",
   "metadata": {},
   "source": [
    "**Описание данных**:  \n",
    "\n",
    "Данные геологоразведки для трёх регионов содержатся в файлах:\n",
    "\n",
    "*/datasets/geo_data_0.csv*  \n",
    "*/datasets/geo_data_1.csv*  \n",
    "*/datasets/geo_data_2.csv*  \n",
    "\n",
    "Каждый файл содержит:  \n",
    "\n",
    "*id* — уникальный идентификатор скважины.  \n",
    "*f0, f1, f2* — признаки (характеристики) месторождения.  \n",
    "*product* — целевой признак: объём запасов нефти в скважине (в тыс. баррелей)."
   ]
  },
  {
   "cell_type": "code",
   "execution_count": 1,
   "id": "b6c4a3a7",
   "metadata": {},
   "outputs": [],
   "source": [
    "# импорт используемых библиотек\n",
    "\n",
    "import pandas as pd\n",
    "import matplotlib.pyplot as plt\n",
    "import seaborn as sns\n",
    "\n",
    "import numpy as np\n",
    "from sklearn.model_selection import train_test_split\n",
    "from sklearn.linear_model import LinearRegression\n",
    "from sklearn.pipeline import Pipeline\n",
    "from sklearn.preprocessing import StandardScaler\n",
    "from sklearn.metrics import mean_squared_error\n",
    "\n",
    "import warnings"
   ]
  },
  {
   "cell_type": "code",
   "execution_count": 2,
   "id": "e8d47cb0",
   "metadata": {},
   "outputs": [],
   "source": [
    "warnings.simplefilter(action='ignore', category=FutureWarning)"
   ]
  },
  {
   "cell_type": "markdown",
   "id": "5e4e5895",
   "metadata": {},
   "source": [
    "## 1. Загрузка и подготовка данных"
   ]
  },
  {
   "cell_type": "code",
   "execution_count": 3,
   "id": "89c627d8",
   "metadata": {},
   "outputs": [],
   "source": [
    "geo_data_0 = pd.read_csv('https://code.s3.yandex.net/datasets/geo_data_0.csv')\n",
    "geo_data_1 = pd.read_csv('https://code.s3.yandex.net/datasets/geo_data_1.csv')\n",
    "geo_data_2 = pd.read_csv('https://code.s3.yandex.net/datasets/geo_data_2.csv')"
   ]
  },
  {
   "cell_type": "code",
   "execution_count": 4,
   "id": "65284a46",
   "metadata": {},
   "outputs": [],
   "source": [
    "# функция для получения базовой информации о датасетах\n",
    "\n",
    "def get_info(df):\n",
    "    print(\"Размер датасета:\", df.shape, sep='\\n', end='\\n\\n')\n",
    "    display(df)\n",
    "    print('\\n')\n",
    "    display(df.info())\n",
    "    print('\\n')\n",
    "    display(df.describe().T)\n",
    "    print(\"Количество пропусков:\", df.isna().sum(), sep='\\n', end='\\n\\n')\n",
    "    print(\"Количество явных дубликатов:\", df.duplicated().sum(), end='\\n\\n')\n",
    "    display(df[df.duplicated() == True])"
   ]
  },
  {
   "cell_type": "code",
   "execution_count": 5,
   "id": "faf09ea9",
   "metadata": {},
   "outputs": [
    {
     "name": "stdout",
     "output_type": "stream",
     "text": [
      "Размер датасета:\n",
      "(100000, 5)\n",
      "\n"
     ]
    },
    {
     "data": {
      "text/html": [
       "<div>\n",
       "<style scoped>\n",
       "    .dataframe tbody tr th:only-of-type {\n",
       "        vertical-align: middle;\n",
       "    }\n",
       "\n",
       "    .dataframe tbody tr th {\n",
       "        vertical-align: top;\n",
       "    }\n",
       "\n",
       "    .dataframe thead th {\n",
       "        text-align: right;\n",
       "    }\n",
       "</style>\n",
       "<table border=\"1\" class=\"dataframe\">\n",
       "  <thead>\n",
       "    <tr style=\"text-align: right;\">\n",
       "      <th></th>\n",
       "      <th>id</th>\n",
       "      <th>f0</th>\n",
       "      <th>f1</th>\n",
       "      <th>f2</th>\n",
       "      <th>product</th>\n",
       "    </tr>\n",
       "  </thead>\n",
       "  <tbody>\n",
       "    <tr>\n",
       "      <th>0</th>\n",
       "      <td>txEyH</td>\n",
       "      <td>0.705745</td>\n",
       "      <td>-0.497823</td>\n",
       "      <td>1.221170</td>\n",
       "      <td>105.280062</td>\n",
       "    </tr>\n",
       "    <tr>\n",
       "      <th>1</th>\n",
       "      <td>2acmU</td>\n",
       "      <td>1.334711</td>\n",
       "      <td>-0.340164</td>\n",
       "      <td>4.365080</td>\n",
       "      <td>73.037750</td>\n",
       "    </tr>\n",
       "    <tr>\n",
       "      <th>2</th>\n",
       "      <td>409Wp</td>\n",
       "      <td>1.022732</td>\n",
       "      <td>0.151990</td>\n",
       "      <td>1.419926</td>\n",
       "      <td>85.265647</td>\n",
       "    </tr>\n",
       "    <tr>\n",
       "      <th>3</th>\n",
       "      <td>iJLyR</td>\n",
       "      <td>-0.032172</td>\n",
       "      <td>0.139033</td>\n",
       "      <td>2.978566</td>\n",
       "      <td>168.620776</td>\n",
       "    </tr>\n",
       "    <tr>\n",
       "      <th>4</th>\n",
       "      <td>Xdl7t</td>\n",
       "      <td>1.988431</td>\n",
       "      <td>0.155413</td>\n",
       "      <td>4.751769</td>\n",
       "      <td>154.036647</td>\n",
       "    </tr>\n",
       "    <tr>\n",
       "      <th>...</th>\n",
       "      <td>...</td>\n",
       "      <td>...</td>\n",
       "      <td>...</td>\n",
       "      <td>...</td>\n",
       "      <td>...</td>\n",
       "    </tr>\n",
       "    <tr>\n",
       "      <th>99995</th>\n",
       "      <td>DLsed</td>\n",
       "      <td>0.971957</td>\n",
       "      <td>0.370953</td>\n",
       "      <td>6.075346</td>\n",
       "      <td>110.744026</td>\n",
       "    </tr>\n",
       "    <tr>\n",
       "      <th>99996</th>\n",
       "      <td>QKivN</td>\n",
       "      <td>1.392429</td>\n",
       "      <td>-0.382606</td>\n",
       "      <td>1.273912</td>\n",
       "      <td>122.346843</td>\n",
       "    </tr>\n",
       "    <tr>\n",
       "      <th>99997</th>\n",
       "      <td>3rnvd</td>\n",
       "      <td>1.029585</td>\n",
       "      <td>0.018787</td>\n",
       "      <td>-1.348308</td>\n",
       "      <td>64.375443</td>\n",
       "    </tr>\n",
       "    <tr>\n",
       "      <th>99998</th>\n",
       "      <td>7kl59</td>\n",
       "      <td>0.998163</td>\n",
       "      <td>-0.528582</td>\n",
       "      <td>1.583869</td>\n",
       "      <td>74.040764</td>\n",
       "    </tr>\n",
       "    <tr>\n",
       "      <th>99999</th>\n",
       "      <td>1CWhH</td>\n",
       "      <td>1.764754</td>\n",
       "      <td>-0.266417</td>\n",
       "      <td>5.722849</td>\n",
       "      <td>149.633246</td>\n",
       "    </tr>\n",
       "  </tbody>\n",
       "</table>\n",
       "<p>100000 rows × 5 columns</p>\n",
       "</div>"
      ],
      "text/plain": [
       "          id        f0        f1        f2     product\n",
       "0      txEyH  0.705745 -0.497823  1.221170  105.280062\n",
       "1      2acmU  1.334711 -0.340164  4.365080   73.037750\n",
       "2      409Wp  1.022732  0.151990  1.419926   85.265647\n",
       "3      iJLyR -0.032172  0.139033  2.978566  168.620776\n",
       "4      Xdl7t  1.988431  0.155413  4.751769  154.036647\n",
       "...      ...       ...       ...       ...         ...\n",
       "99995  DLsed  0.971957  0.370953  6.075346  110.744026\n",
       "99996  QKivN  1.392429 -0.382606  1.273912  122.346843\n",
       "99997  3rnvd  1.029585  0.018787 -1.348308   64.375443\n",
       "99998  7kl59  0.998163 -0.528582  1.583869   74.040764\n",
       "99999  1CWhH  1.764754 -0.266417  5.722849  149.633246\n",
       "\n",
       "[100000 rows x 5 columns]"
      ]
     },
     "metadata": {},
     "output_type": "display_data"
    },
    {
     "name": "stdout",
     "output_type": "stream",
     "text": [
      "\n",
      "\n",
      "<class 'pandas.core.frame.DataFrame'>\n",
      "RangeIndex: 100000 entries, 0 to 99999\n",
      "Data columns (total 5 columns):\n",
      " #   Column   Non-Null Count   Dtype  \n",
      "---  ------   --------------   -----  \n",
      " 0   id       100000 non-null  object \n",
      " 1   f0       100000 non-null  float64\n",
      " 2   f1       100000 non-null  float64\n",
      " 3   f2       100000 non-null  float64\n",
      " 4   product  100000 non-null  float64\n",
      "dtypes: float64(4), object(1)\n",
      "memory usage: 3.8+ MB\n"
     ]
    },
    {
     "data": {
      "text/plain": [
       "None"
      ]
     },
     "metadata": {},
     "output_type": "display_data"
    },
    {
     "name": "stdout",
     "output_type": "stream",
     "text": [
      "\n",
      "\n"
     ]
    },
    {
     "data": {
      "text/html": [
       "<div>\n",
       "<style scoped>\n",
       "    .dataframe tbody tr th:only-of-type {\n",
       "        vertical-align: middle;\n",
       "    }\n",
       "\n",
       "    .dataframe tbody tr th {\n",
       "        vertical-align: top;\n",
       "    }\n",
       "\n",
       "    .dataframe thead th {\n",
       "        text-align: right;\n",
       "    }\n",
       "</style>\n",
       "<table border=\"1\" class=\"dataframe\">\n",
       "  <thead>\n",
       "    <tr style=\"text-align: right;\">\n",
       "      <th></th>\n",
       "      <th>count</th>\n",
       "      <th>mean</th>\n",
       "      <th>std</th>\n",
       "      <th>min</th>\n",
       "      <th>25%</th>\n",
       "      <th>50%</th>\n",
       "      <th>75%</th>\n",
       "      <th>max</th>\n",
       "    </tr>\n",
       "  </thead>\n",
       "  <tbody>\n",
       "    <tr>\n",
       "      <th>f0</th>\n",
       "      <td>100000.0</td>\n",
       "      <td>0.500419</td>\n",
       "      <td>0.871832</td>\n",
       "      <td>-1.408605</td>\n",
       "      <td>-0.072580</td>\n",
       "      <td>0.502360</td>\n",
       "      <td>1.073581</td>\n",
       "      <td>2.362331</td>\n",
       "    </tr>\n",
       "    <tr>\n",
       "      <th>f1</th>\n",
       "      <td>100000.0</td>\n",
       "      <td>0.250143</td>\n",
       "      <td>0.504433</td>\n",
       "      <td>-0.848218</td>\n",
       "      <td>-0.200881</td>\n",
       "      <td>0.250252</td>\n",
       "      <td>0.700646</td>\n",
       "      <td>1.343769</td>\n",
       "    </tr>\n",
       "    <tr>\n",
       "      <th>f2</th>\n",
       "      <td>100000.0</td>\n",
       "      <td>2.502647</td>\n",
       "      <td>3.248248</td>\n",
       "      <td>-12.088328</td>\n",
       "      <td>0.287748</td>\n",
       "      <td>2.515969</td>\n",
       "      <td>4.715088</td>\n",
       "      <td>16.003790</td>\n",
       "    </tr>\n",
       "    <tr>\n",
       "      <th>product</th>\n",
       "      <td>100000.0</td>\n",
       "      <td>92.500000</td>\n",
       "      <td>44.288691</td>\n",
       "      <td>0.000000</td>\n",
       "      <td>56.497507</td>\n",
       "      <td>91.849972</td>\n",
       "      <td>128.564089</td>\n",
       "      <td>185.364347</td>\n",
       "    </tr>\n",
       "  </tbody>\n",
       "</table>\n",
       "</div>"
      ],
      "text/plain": [
       "            count       mean        std        min        25%        50%  \\\n",
       "f0       100000.0   0.500419   0.871832  -1.408605  -0.072580   0.502360   \n",
       "f1       100000.0   0.250143   0.504433  -0.848218  -0.200881   0.250252   \n",
       "f2       100000.0   2.502647   3.248248 -12.088328   0.287748   2.515969   \n",
       "product  100000.0  92.500000  44.288691   0.000000  56.497507  91.849972   \n",
       "\n",
       "                75%         max  \n",
       "f0         1.073581    2.362331  \n",
       "f1         0.700646    1.343769  \n",
       "f2         4.715088   16.003790  \n",
       "product  128.564089  185.364347  "
      ]
     },
     "metadata": {},
     "output_type": "display_data"
    },
    {
     "name": "stdout",
     "output_type": "stream",
     "text": [
      "Количество пропусков:\n",
      "id         0\n",
      "f0         0\n",
      "f1         0\n",
      "f2         0\n",
      "product    0\n",
      "dtype: int64\n",
      "\n",
      "Количество явных дубликатов: 0\n",
      "\n"
     ]
    },
    {
     "data": {
      "text/html": [
       "<div>\n",
       "<style scoped>\n",
       "    .dataframe tbody tr th:only-of-type {\n",
       "        vertical-align: middle;\n",
       "    }\n",
       "\n",
       "    .dataframe tbody tr th {\n",
       "        vertical-align: top;\n",
       "    }\n",
       "\n",
       "    .dataframe thead th {\n",
       "        text-align: right;\n",
       "    }\n",
       "</style>\n",
       "<table border=\"1\" class=\"dataframe\">\n",
       "  <thead>\n",
       "    <tr style=\"text-align: right;\">\n",
       "      <th></th>\n",
       "      <th>id</th>\n",
       "      <th>f0</th>\n",
       "      <th>f1</th>\n",
       "      <th>f2</th>\n",
       "      <th>product</th>\n",
       "    </tr>\n",
       "  </thead>\n",
       "  <tbody>\n",
       "  </tbody>\n",
       "</table>\n",
       "</div>"
      ],
      "text/plain": [
       "Empty DataFrame\n",
       "Columns: [id, f0, f1, f2, product]\n",
       "Index: []"
      ]
     },
     "metadata": {},
     "output_type": "display_data"
    }
   ],
   "source": [
    "get_info(geo_data_0)"
   ]
  },
  {
   "cell_type": "code",
   "execution_count": 6,
   "id": "b6960a15",
   "metadata": {},
   "outputs": [
    {
     "name": "stdout",
     "output_type": "stream",
     "text": [
      "Размер датасета:\n",
      "(100000, 5)\n",
      "\n"
     ]
    },
    {
     "data": {
      "text/html": [
       "<div>\n",
       "<style scoped>\n",
       "    .dataframe tbody tr th:only-of-type {\n",
       "        vertical-align: middle;\n",
       "    }\n",
       "\n",
       "    .dataframe tbody tr th {\n",
       "        vertical-align: top;\n",
       "    }\n",
       "\n",
       "    .dataframe thead th {\n",
       "        text-align: right;\n",
       "    }\n",
       "</style>\n",
       "<table border=\"1\" class=\"dataframe\">\n",
       "  <thead>\n",
       "    <tr style=\"text-align: right;\">\n",
       "      <th></th>\n",
       "      <th>id</th>\n",
       "      <th>f0</th>\n",
       "      <th>f1</th>\n",
       "      <th>f2</th>\n",
       "      <th>product</th>\n",
       "    </tr>\n",
       "  </thead>\n",
       "  <tbody>\n",
       "    <tr>\n",
       "      <th>0</th>\n",
       "      <td>kBEdx</td>\n",
       "      <td>-15.001348</td>\n",
       "      <td>-8.276000</td>\n",
       "      <td>-0.005876</td>\n",
       "      <td>3.179103</td>\n",
       "    </tr>\n",
       "    <tr>\n",
       "      <th>1</th>\n",
       "      <td>62mP7</td>\n",
       "      <td>14.272088</td>\n",
       "      <td>-3.475083</td>\n",
       "      <td>0.999183</td>\n",
       "      <td>26.953261</td>\n",
       "    </tr>\n",
       "    <tr>\n",
       "      <th>2</th>\n",
       "      <td>vyE1P</td>\n",
       "      <td>6.263187</td>\n",
       "      <td>-5.948386</td>\n",
       "      <td>5.001160</td>\n",
       "      <td>134.766305</td>\n",
       "    </tr>\n",
       "    <tr>\n",
       "      <th>3</th>\n",
       "      <td>KcrkZ</td>\n",
       "      <td>-13.081196</td>\n",
       "      <td>-11.506057</td>\n",
       "      <td>4.999415</td>\n",
       "      <td>137.945408</td>\n",
       "    </tr>\n",
       "    <tr>\n",
       "      <th>4</th>\n",
       "      <td>AHL4O</td>\n",
       "      <td>12.702195</td>\n",
       "      <td>-8.147433</td>\n",
       "      <td>5.004363</td>\n",
       "      <td>134.766305</td>\n",
       "    </tr>\n",
       "    <tr>\n",
       "      <th>...</th>\n",
       "      <td>...</td>\n",
       "      <td>...</td>\n",
       "      <td>...</td>\n",
       "      <td>...</td>\n",
       "      <td>...</td>\n",
       "    </tr>\n",
       "    <tr>\n",
       "      <th>99995</th>\n",
       "      <td>QywKC</td>\n",
       "      <td>9.535637</td>\n",
       "      <td>-6.878139</td>\n",
       "      <td>1.998296</td>\n",
       "      <td>53.906522</td>\n",
       "    </tr>\n",
       "    <tr>\n",
       "      <th>99996</th>\n",
       "      <td>ptvty</td>\n",
       "      <td>-10.160631</td>\n",
       "      <td>-12.558096</td>\n",
       "      <td>5.005581</td>\n",
       "      <td>137.945408</td>\n",
       "    </tr>\n",
       "    <tr>\n",
       "      <th>99997</th>\n",
       "      <td>09gWa</td>\n",
       "      <td>-7.378891</td>\n",
       "      <td>-3.084104</td>\n",
       "      <td>4.998651</td>\n",
       "      <td>137.945408</td>\n",
       "    </tr>\n",
       "    <tr>\n",
       "      <th>99998</th>\n",
       "      <td>rqwUm</td>\n",
       "      <td>0.665714</td>\n",
       "      <td>-6.152593</td>\n",
       "      <td>1.000146</td>\n",
       "      <td>30.132364</td>\n",
       "    </tr>\n",
       "    <tr>\n",
       "      <th>99999</th>\n",
       "      <td>relB0</td>\n",
       "      <td>-3.426139</td>\n",
       "      <td>-7.794274</td>\n",
       "      <td>-0.003299</td>\n",
       "      <td>3.179103</td>\n",
       "    </tr>\n",
       "  </tbody>\n",
       "</table>\n",
       "<p>100000 rows × 5 columns</p>\n",
       "</div>"
      ],
      "text/plain": [
       "          id         f0         f1        f2     product\n",
       "0      kBEdx -15.001348  -8.276000 -0.005876    3.179103\n",
       "1      62mP7  14.272088  -3.475083  0.999183   26.953261\n",
       "2      vyE1P   6.263187  -5.948386  5.001160  134.766305\n",
       "3      KcrkZ -13.081196 -11.506057  4.999415  137.945408\n",
       "4      AHL4O  12.702195  -8.147433  5.004363  134.766305\n",
       "...      ...        ...        ...       ...         ...\n",
       "99995  QywKC   9.535637  -6.878139  1.998296   53.906522\n",
       "99996  ptvty -10.160631 -12.558096  5.005581  137.945408\n",
       "99997  09gWa  -7.378891  -3.084104  4.998651  137.945408\n",
       "99998  rqwUm   0.665714  -6.152593  1.000146   30.132364\n",
       "99999  relB0  -3.426139  -7.794274 -0.003299    3.179103\n",
       "\n",
       "[100000 rows x 5 columns]"
      ]
     },
     "metadata": {},
     "output_type": "display_data"
    },
    {
     "name": "stdout",
     "output_type": "stream",
     "text": [
      "\n",
      "\n",
      "<class 'pandas.core.frame.DataFrame'>\n",
      "RangeIndex: 100000 entries, 0 to 99999\n",
      "Data columns (total 5 columns):\n",
      " #   Column   Non-Null Count   Dtype  \n",
      "---  ------   --------------   -----  \n",
      " 0   id       100000 non-null  object \n",
      " 1   f0       100000 non-null  float64\n",
      " 2   f1       100000 non-null  float64\n",
      " 3   f2       100000 non-null  float64\n",
      " 4   product  100000 non-null  float64\n",
      "dtypes: float64(4), object(1)\n",
      "memory usage: 3.8+ MB\n"
     ]
    },
    {
     "data": {
      "text/plain": [
       "None"
      ]
     },
     "metadata": {},
     "output_type": "display_data"
    },
    {
     "name": "stdout",
     "output_type": "stream",
     "text": [
      "\n",
      "\n"
     ]
    },
    {
     "data": {
      "text/html": [
       "<div>\n",
       "<style scoped>\n",
       "    .dataframe tbody tr th:only-of-type {\n",
       "        vertical-align: middle;\n",
       "    }\n",
       "\n",
       "    .dataframe tbody tr th {\n",
       "        vertical-align: top;\n",
       "    }\n",
       "\n",
       "    .dataframe thead th {\n",
       "        text-align: right;\n",
       "    }\n",
       "</style>\n",
       "<table border=\"1\" class=\"dataframe\">\n",
       "  <thead>\n",
       "    <tr style=\"text-align: right;\">\n",
       "      <th></th>\n",
       "      <th>count</th>\n",
       "      <th>mean</th>\n",
       "      <th>std</th>\n",
       "      <th>min</th>\n",
       "      <th>25%</th>\n",
       "      <th>50%</th>\n",
       "      <th>75%</th>\n",
       "      <th>max</th>\n",
       "    </tr>\n",
       "  </thead>\n",
       "  <tbody>\n",
       "    <tr>\n",
       "      <th>f0</th>\n",
       "      <td>100000.0</td>\n",
       "      <td>1.141296</td>\n",
       "      <td>8.965932</td>\n",
       "      <td>-31.609576</td>\n",
       "      <td>-6.298551</td>\n",
       "      <td>1.153055</td>\n",
       "      <td>8.621015</td>\n",
       "      <td>29.421755</td>\n",
       "    </tr>\n",
       "    <tr>\n",
       "      <th>f1</th>\n",
       "      <td>100000.0</td>\n",
       "      <td>-4.796579</td>\n",
       "      <td>5.119872</td>\n",
       "      <td>-26.358598</td>\n",
       "      <td>-8.267985</td>\n",
       "      <td>-4.813172</td>\n",
       "      <td>-1.332816</td>\n",
       "      <td>18.734063</td>\n",
       "    </tr>\n",
       "    <tr>\n",
       "      <th>f2</th>\n",
       "      <td>100000.0</td>\n",
       "      <td>2.494541</td>\n",
       "      <td>1.703572</td>\n",
       "      <td>-0.018144</td>\n",
       "      <td>1.000021</td>\n",
       "      <td>2.011479</td>\n",
       "      <td>3.999904</td>\n",
       "      <td>5.019721</td>\n",
       "    </tr>\n",
       "    <tr>\n",
       "      <th>product</th>\n",
       "      <td>100000.0</td>\n",
       "      <td>68.825000</td>\n",
       "      <td>45.944423</td>\n",
       "      <td>0.000000</td>\n",
       "      <td>26.953261</td>\n",
       "      <td>57.085625</td>\n",
       "      <td>107.813044</td>\n",
       "      <td>137.945408</td>\n",
       "    </tr>\n",
       "  </tbody>\n",
       "</table>\n",
       "</div>"
      ],
      "text/plain": [
       "            count       mean        std        min        25%        50%  \\\n",
       "f0       100000.0   1.141296   8.965932 -31.609576  -6.298551   1.153055   \n",
       "f1       100000.0  -4.796579   5.119872 -26.358598  -8.267985  -4.813172   \n",
       "f2       100000.0   2.494541   1.703572  -0.018144   1.000021   2.011479   \n",
       "product  100000.0  68.825000  45.944423   0.000000  26.953261  57.085625   \n",
       "\n",
       "                75%         max  \n",
       "f0         8.621015   29.421755  \n",
       "f1        -1.332816   18.734063  \n",
       "f2         3.999904    5.019721  \n",
       "product  107.813044  137.945408  "
      ]
     },
     "metadata": {},
     "output_type": "display_data"
    },
    {
     "name": "stdout",
     "output_type": "stream",
     "text": [
      "Количество пропусков:\n",
      "id         0\n",
      "f0         0\n",
      "f1         0\n",
      "f2         0\n",
      "product    0\n",
      "dtype: int64\n",
      "\n",
      "Количество явных дубликатов: 0\n",
      "\n"
     ]
    },
    {
     "data": {
      "text/html": [
       "<div>\n",
       "<style scoped>\n",
       "    .dataframe tbody tr th:only-of-type {\n",
       "        vertical-align: middle;\n",
       "    }\n",
       "\n",
       "    .dataframe tbody tr th {\n",
       "        vertical-align: top;\n",
       "    }\n",
       "\n",
       "    .dataframe thead th {\n",
       "        text-align: right;\n",
       "    }\n",
       "</style>\n",
       "<table border=\"1\" class=\"dataframe\">\n",
       "  <thead>\n",
       "    <tr style=\"text-align: right;\">\n",
       "      <th></th>\n",
       "      <th>id</th>\n",
       "      <th>f0</th>\n",
       "      <th>f1</th>\n",
       "      <th>f2</th>\n",
       "      <th>product</th>\n",
       "    </tr>\n",
       "  </thead>\n",
       "  <tbody>\n",
       "  </tbody>\n",
       "</table>\n",
       "</div>"
      ],
      "text/plain": [
       "Empty DataFrame\n",
       "Columns: [id, f0, f1, f2, product]\n",
       "Index: []"
      ]
     },
     "metadata": {},
     "output_type": "display_data"
    }
   ],
   "source": [
    "get_info(geo_data_1)"
   ]
  },
  {
   "cell_type": "code",
   "execution_count": 7,
   "id": "2eabf292",
   "metadata": {},
   "outputs": [
    {
     "name": "stdout",
     "output_type": "stream",
     "text": [
      "Размер датасета:\n",
      "(100000, 5)\n",
      "\n"
     ]
    },
    {
     "data": {
      "text/html": [
       "<div>\n",
       "<style scoped>\n",
       "    .dataframe tbody tr th:only-of-type {\n",
       "        vertical-align: middle;\n",
       "    }\n",
       "\n",
       "    .dataframe tbody tr th {\n",
       "        vertical-align: top;\n",
       "    }\n",
       "\n",
       "    .dataframe thead th {\n",
       "        text-align: right;\n",
       "    }\n",
       "</style>\n",
       "<table border=\"1\" class=\"dataframe\">\n",
       "  <thead>\n",
       "    <tr style=\"text-align: right;\">\n",
       "      <th></th>\n",
       "      <th>id</th>\n",
       "      <th>f0</th>\n",
       "      <th>f1</th>\n",
       "      <th>f2</th>\n",
       "      <th>product</th>\n",
       "    </tr>\n",
       "  </thead>\n",
       "  <tbody>\n",
       "    <tr>\n",
       "      <th>0</th>\n",
       "      <td>fwXo0</td>\n",
       "      <td>-1.146987</td>\n",
       "      <td>0.963328</td>\n",
       "      <td>-0.828965</td>\n",
       "      <td>27.758673</td>\n",
       "    </tr>\n",
       "    <tr>\n",
       "      <th>1</th>\n",
       "      <td>WJtFt</td>\n",
       "      <td>0.262778</td>\n",
       "      <td>0.269839</td>\n",
       "      <td>-2.530187</td>\n",
       "      <td>56.069697</td>\n",
       "    </tr>\n",
       "    <tr>\n",
       "      <th>2</th>\n",
       "      <td>ovLUW</td>\n",
       "      <td>0.194587</td>\n",
       "      <td>0.289035</td>\n",
       "      <td>-5.586433</td>\n",
       "      <td>62.871910</td>\n",
       "    </tr>\n",
       "    <tr>\n",
       "      <th>3</th>\n",
       "      <td>q6cA6</td>\n",
       "      <td>2.236060</td>\n",
       "      <td>-0.553760</td>\n",
       "      <td>0.930038</td>\n",
       "      <td>114.572842</td>\n",
       "    </tr>\n",
       "    <tr>\n",
       "      <th>4</th>\n",
       "      <td>WPMUX</td>\n",
       "      <td>-0.515993</td>\n",
       "      <td>1.716266</td>\n",
       "      <td>5.899011</td>\n",
       "      <td>149.600746</td>\n",
       "    </tr>\n",
       "    <tr>\n",
       "      <th>...</th>\n",
       "      <td>...</td>\n",
       "      <td>...</td>\n",
       "      <td>...</td>\n",
       "      <td>...</td>\n",
       "      <td>...</td>\n",
       "    </tr>\n",
       "    <tr>\n",
       "      <th>99995</th>\n",
       "      <td>4GxBu</td>\n",
       "      <td>-1.777037</td>\n",
       "      <td>1.125220</td>\n",
       "      <td>6.263374</td>\n",
       "      <td>172.327046</td>\n",
       "    </tr>\n",
       "    <tr>\n",
       "      <th>99996</th>\n",
       "      <td>YKFjq</td>\n",
       "      <td>-1.261523</td>\n",
       "      <td>-0.894828</td>\n",
       "      <td>2.524545</td>\n",
       "      <td>138.748846</td>\n",
       "    </tr>\n",
       "    <tr>\n",
       "      <th>99997</th>\n",
       "      <td>tKPY3</td>\n",
       "      <td>-1.199934</td>\n",
       "      <td>-2.957637</td>\n",
       "      <td>5.219411</td>\n",
       "      <td>157.080080</td>\n",
       "    </tr>\n",
       "    <tr>\n",
       "      <th>99998</th>\n",
       "      <td>nmxp2</td>\n",
       "      <td>-2.419896</td>\n",
       "      <td>2.417221</td>\n",
       "      <td>-5.548444</td>\n",
       "      <td>51.795253</td>\n",
       "    </tr>\n",
       "    <tr>\n",
       "      <th>99999</th>\n",
       "      <td>V9kWn</td>\n",
       "      <td>-2.551421</td>\n",
       "      <td>-2.025625</td>\n",
       "      <td>6.090891</td>\n",
       "      <td>102.775767</td>\n",
       "    </tr>\n",
       "  </tbody>\n",
       "</table>\n",
       "<p>100000 rows × 5 columns</p>\n",
       "</div>"
      ],
      "text/plain": [
       "          id        f0        f1        f2     product\n",
       "0      fwXo0 -1.146987  0.963328 -0.828965   27.758673\n",
       "1      WJtFt  0.262778  0.269839 -2.530187   56.069697\n",
       "2      ovLUW  0.194587  0.289035 -5.586433   62.871910\n",
       "3      q6cA6  2.236060 -0.553760  0.930038  114.572842\n",
       "4      WPMUX -0.515993  1.716266  5.899011  149.600746\n",
       "...      ...       ...       ...       ...         ...\n",
       "99995  4GxBu -1.777037  1.125220  6.263374  172.327046\n",
       "99996  YKFjq -1.261523 -0.894828  2.524545  138.748846\n",
       "99997  tKPY3 -1.199934 -2.957637  5.219411  157.080080\n",
       "99998  nmxp2 -2.419896  2.417221 -5.548444   51.795253\n",
       "99999  V9kWn -2.551421 -2.025625  6.090891  102.775767\n",
       "\n",
       "[100000 rows x 5 columns]"
      ]
     },
     "metadata": {},
     "output_type": "display_data"
    },
    {
     "name": "stdout",
     "output_type": "stream",
     "text": [
      "\n",
      "\n",
      "<class 'pandas.core.frame.DataFrame'>\n",
      "RangeIndex: 100000 entries, 0 to 99999\n",
      "Data columns (total 5 columns):\n",
      " #   Column   Non-Null Count   Dtype  \n",
      "---  ------   --------------   -----  \n",
      " 0   id       100000 non-null  object \n",
      " 1   f0       100000 non-null  float64\n",
      " 2   f1       100000 non-null  float64\n",
      " 3   f2       100000 non-null  float64\n",
      " 4   product  100000 non-null  float64\n",
      "dtypes: float64(4), object(1)\n",
      "memory usage: 3.8+ MB\n"
     ]
    },
    {
     "data": {
      "text/plain": [
       "None"
      ]
     },
     "metadata": {},
     "output_type": "display_data"
    },
    {
     "name": "stdout",
     "output_type": "stream",
     "text": [
      "\n",
      "\n"
     ]
    },
    {
     "data": {
      "text/html": [
       "<div>\n",
       "<style scoped>\n",
       "    .dataframe tbody tr th:only-of-type {\n",
       "        vertical-align: middle;\n",
       "    }\n",
       "\n",
       "    .dataframe tbody tr th {\n",
       "        vertical-align: top;\n",
       "    }\n",
       "\n",
       "    .dataframe thead th {\n",
       "        text-align: right;\n",
       "    }\n",
       "</style>\n",
       "<table border=\"1\" class=\"dataframe\">\n",
       "  <thead>\n",
       "    <tr style=\"text-align: right;\">\n",
       "      <th></th>\n",
       "      <th>count</th>\n",
       "      <th>mean</th>\n",
       "      <th>std</th>\n",
       "      <th>min</th>\n",
       "      <th>25%</th>\n",
       "      <th>50%</th>\n",
       "      <th>75%</th>\n",
       "      <th>max</th>\n",
       "    </tr>\n",
       "  </thead>\n",
       "  <tbody>\n",
       "    <tr>\n",
       "      <th>f0</th>\n",
       "      <td>100000.0</td>\n",
       "      <td>0.002023</td>\n",
       "      <td>1.732045</td>\n",
       "      <td>-8.760004</td>\n",
       "      <td>-1.162288</td>\n",
       "      <td>0.009424</td>\n",
       "      <td>1.158535</td>\n",
       "      <td>7.238262</td>\n",
       "    </tr>\n",
       "    <tr>\n",
       "      <th>f1</th>\n",
       "      <td>100000.0</td>\n",
       "      <td>-0.002081</td>\n",
       "      <td>1.730417</td>\n",
       "      <td>-7.084020</td>\n",
       "      <td>-1.174820</td>\n",
       "      <td>-0.009482</td>\n",
       "      <td>1.163678</td>\n",
       "      <td>7.844801</td>\n",
       "    </tr>\n",
       "    <tr>\n",
       "      <th>f2</th>\n",
       "      <td>100000.0</td>\n",
       "      <td>2.495128</td>\n",
       "      <td>3.473445</td>\n",
       "      <td>-11.970335</td>\n",
       "      <td>0.130359</td>\n",
       "      <td>2.484236</td>\n",
       "      <td>4.858794</td>\n",
       "      <td>16.739402</td>\n",
       "    </tr>\n",
       "    <tr>\n",
       "      <th>product</th>\n",
       "      <td>100000.0</td>\n",
       "      <td>95.000000</td>\n",
       "      <td>44.749921</td>\n",
       "      <td>0.000000</td>\n",
       "      <td>59.450441</td>\n",
       "      <td>94.925613</td>\n",
       "      <td>130.595027</td>\n",
       "      <td>190.029838</td>\n",
       "    </tr>\n",
       "  </tbody>\n",
       "</table>\n",
       "</div>"
      ],
      "text/plain": [
       "            count       mean        std        min        25%        50%  \\\n",
       "f0       100000.0   0.002023   1.732045  -8.760004  -1.162288   0.009424   \n",
       "f1       100000.0  -0.002081   1.730417  -7.084020  -1.174820  -0.009482   \n",
       "f2       100000.0   2.495128   3.473445 -11.970335   0.130359   2.484236   \n",
       "product  100000.0  95.000000  44.749921   0.000000  59.450441  94.925613   \n",
       "\n",
       "                75%         max  \n",
       "f0         1.158535    7.238262  \n",
       "f1         1.163678    7.844801  \n",
       "f2         4.858794   16.739402  \n",
       "product  130.595027  190.029838  "
      ]
     },
     "metadata": {},
     "output_type": "display_data"
    },
    {
     "name": "stdout",
     "output_type": "stream",
     "text": [
      "Количество пропусков:\n",
      "id         0\n",
      "f0         0\n",
      "f1         0\n",
      "f2         0\n",
      "product    0\n",
      "dtype: int64\n",
      "\n",
      "Количество явных дубликатов: 0\n",
      "\n"
     ]
    },
    {
     "data": {
      "text/html": [
       "<div>\n",
       "<style scoped>\n",
       "    .dataframe tbody tr th:only-of-type {\n",
       "        vertical-align: middle;\n",
       "    }\n",
       "\n",
       "    .dataframe tbody tr th {\n",
       "        vertical-align: top;\n",
       "    }\n",
       "\n",
       "    .dataframe thead th {\n",
       "        text-align: right;\n",
       "    }\n",
       "</style>\n",
       "<table border=\"1\" class=\"dataframe\">\n",
       "  <thead>\n",
       "    <tr style=\"text-align: right;\">\n",
       "      <th></th>\n",
       "      <th>id</th>\n",
       "      <th>f0</th>\n",
       "      <th>f1</th>\n",
       "      <th>f2</th>\n",
       "      <th>product</th>\n",
       "    </tr>\n",
       "  </thead>\n",
       "  <tbody>\n",
       "  </tbody>\n",
       "</table>\n",
       "</div>"
      ],
      "text/plain": [
       "Empty DataFrame\n",
       "Columns: [id, f0, f1, f2, product]\n",
       "Index: []"
      ]
     },
     "metadata": {},
     "output_type": "display_data"
    }
   ],
   "source": [
    "get_info(geo_data_2)"
   ]
  },
  {
   "cell_type": "markdown",
   "id": "b2c5e566",
   "metadata": {},
   "source": [
    "Данные чистые, пропуски и дубликаты отсутствуют, типы данных соответствуют представленным. Во всех датасетах равное количество значений. "
   ]
  },
  {
   "cell_type": "code",
   "execution_count": 8,
   "id": "5e33b4ae",
   "metadata": {},
   "outputs": [],
   "source": [
    "geo_data_0 = geo_data_0.drop(columns=['id'], axis=0)\n",
    "geo_data_1 = geo_data_1.drop(columns=['id'], axis=0)\n",
    "geo_data_2 = geo_data_2.drop(columns=['id'], axis=0)"
   ]
  },
  {
   "cell_type": "code",
   "execution_count": 9,
   "id": "e3e88eea",
   "metadata": {},
   "outputs": [
    {
     "data": {
      "image/png": "[encoded data removed]",
      "text/plain": [
       "<Figure size 1296x360 with 3 Axes>"
      ]
     },
     "metadata": {
      "needs_background": "light"
     },
     "output_type": "display_data"
    }
   ],
   "source": [
    "# визуализация целевого признака\n",
    "\n",
    "plt.figure(figsize=(18, 5))\n",
    "\n",
    "for i, data in enumerate([geo_data_0, geo_data_1, geo_data_2]):\n",
    "    plt.subplot(1, 3, i+1)\n",
    "    sns.histplot(data['product'], bins=50, kde=True, color='skyblue')\n",
    "    plt.title(f'Регион {i} - Распределение product')\n",
    "    plt.xlabel('Объём запасов (тыс. баррелей)')\n",
    "    plt.ylabel('Частота')\n",
    "\n",
    "plt.tight_layout()\n",
    "plt.show()"
   ]
  },
  {
   "cell_type": "markdown",
   "id": "e2c64d67",
   "metadata": {},
   "source": [
    "В первом и третьем регионе распределение объема запасов похоже на нормальное, но с несколькими пиками. Диапазон: От ~0 до 180 тыс. баррелей. \n",
    "\n",
    "А вот во втором регионе распределение странное: чётко выраженные пики с регулярными интервалами и почти нулевая частота между ними. Напоминает синтетические данные. Модель может переобучаться или застревать на повторяющихся значениях."
   ]
  },
  {
   "cell_type": "code",
   "execution_count": 10,
   "id": "c91c834f",
   "metadata": {},
   "outputs": [
    {
     "data": {
      "image/png": "[encoded data removed]",
      "text/plain": [
       "<Figure size 1296x360 with 6 Axes>"
      ]
     },
     "metadata": {
      "needs_background": "light"
     },
     "output_type": "display_data"
    }
   ],
   "source": [
    "plt.figure(figsize=(18, 5))\n",
    "\n",
    "for i, data in enumerate([geo_data_0, geo_data_1, geo_data_2]):\n",
    "    plt.subplot(1, 3, i+1)\n",
    "    sns.heatmap(data.corr(), annot=True, cmap='coolwarm', fmt='.2f')\n",
    "    plt.title(f'Регион {i} - Матрица корреляции')\n",
    "\n",
    "plt.tight_layout()\n",
    "plt.show()"
   ]
  },
  {
   "cell_type": "markdown",
   "id": "41d0a827",
   "metadata": {},
   "source": [
    "В регионе 0: f2: ~ 0.48 — единственный, кто показывает умеренную положительную корреляцию с целевым признаком. Такая же ситуация и с регионом 2. \n",
    "\n",
    "А в регионе 1 product можно почти точно выразить через f2, корреляция равна 1. Однако стоит быть осторожными, либо это особенность данных (например, product был рассчитан напрямую из f2), либо это утечка данных.  \n",
    "\n",
    "f2 — основной и возможно единственный полезный признак для предсказания product."
   ]
  },
  {
   "cell_type": "markdown",
   "id": "bbb9064a",
   "metadata": {},
   "source": [
    "### Вывод."
   ]
  },
  {
   "cell_type": "markdown",
   "id": "f692ee33",
   "metadata": {},
   "source": [
    "- Данные корректны: отсутствуют пропуски и дубликаты, типы признаков соответствуют представленным.\n",
    "- Объём данных по каждому региону одинаковый, позволяет проводить равноправное сравнение.\n",
    "- Распределение целевого признака product:\n",
    "  - В регионах 0 и 2 — близко к нормальному.\n",
    "  - В регионе 1 — синтетическое, с резкими пиками и повторяющимися значениями. Это может повлиять на стабильность модели.\n",
    "- Анализ корреляции показал, что только признак f2 имеет значимую связь с product:\n",
    "  - В регионах 0 и 2 — умеренная положительная корреляция (~0.48, 0.45).\n",
    "  - В регионе 1 — корреляция 1.00, что указывает на потенциальную утечку данных.\n",
    "\n",
    "**Вывод:** данные подходят для обучения модели линейной регрессии, однако в регионе 1 следует тщательно проверить признаки, чтобы исключить утечку информации из целевого признака."
   ]
  },
  {
   "cell_type": "markdown",
   "id": "bca51ec4",
   "metadata": {},
   "source": [
    "## 2. Обучение модели"
   ]
  },
  {
   "cell_type": "code",
   "execution_count": 11,
   "id": "f5dd94b9",
   "metadata": {},
   "outputs": [],
   "source": [
    "def process_region(data, region_name):\n",
    "    print(f\"\\nРегион {region_name}\")\n",
    "    \n",
    "    # разделение данных\n",
    "    features = data.drop(columns=['product'])\n",
    "    target = data['product']\n",
    "    X_train, X_valid, y_train, y_valid = train_test_split(\n",
    "        features, target, test_size=0.25, random_state=42)\n",
    "    \n",
    "    # обучение модели\n",
    "    model = Pipeline([\n",
    "        ('scaler', StandardScaler()),\n",
    "        ('regressor', LinearRegression())\n",
    "    ])\n",
    "    model.fit(X_train, y_train)\n",
    "\n",
    "    # предсказания\n",
    "    predictions = model.predict(X_valid)\n",
    "    y_valid = y_valid.reset_index(drop=True)\n",
    "    predictions = pd.Series(predictions)\n",
    "\n",
    "    # средний запас и RMSE\n",
    "    mean_predicted = predictions.mean()\n",
    "    rmse = mean_squared_error(y_valid, predictions, squared=False)\n",
    "    print(f\"Средний предсказанный запас: {mean_predicted:.2f} тыс. барр.\")\n",
    "    print(f\"RMSE модели: {rmse:.2f}\")\n",
    "\n",
    "    return predictions, y_valid"
   ]
  },
  {
   "cell_type": "code",
   "execution_count": 12,
   "id": "84d0baf1",
   "metadata": {},
   "outputs": [
    {
     "name": "stdout",
     "output_type": "stream",
     "text": [
      "\n",
      "Регион 0\n",
      "Средний предсказанный запас: 92.40 тыс. барр.\n",
      "RMSE модели: 37.76\n",
      "\n",
      "Регион 1\n",
      "Средний предсказанный запас: 68.71 тыс. барр.\n",
      "RMSE модели: 0.89\n",
      "\n",
      "Регион 2\n",
      "Средний предсказанный запас: 94.77 тыс. барр.\n",
      "RMSE модели: 40.15\n"
     ]
    }
   ],
   "source": [
    "preds_0, target_0 = process_region(geo_data_0, '0')\n",
    "preds_1, target_1 = process_region(geo_data_1, '1')\n",
    "preds_2, target_2 = process_region(geo_data_2, '2')"
   ]
  },
  {
   "cell_type": "markdown",
   "id": "5f03738b",
   "metadata": {},
   "source": [
    "### Вывод"
   ]
  },
  {
   "cell_type": "markdown",
   "id": "871a7015",
   "metadata": {},
   "source": [
    "- Для каждого региона обучена модель линейной регрессии с масштабированием признаков.\n",
    "- Результаты модели на валидационной выборке:\n",
    "  - **Регион 0**: средний предсказанный запас — **92.4 тыс. барр.**, RMSE — **37.76**\n",
    "  - **Регион 1**: средний предсказанный запас — **68.7 тыс. барр.**, RMSE — **0.89**\n",
    "  - **Регион 2**: средний предсказанный запас — **94.8 тыс. барр.**, RMSE — **40.15**\n",
    "\n",
    "- Для **региона 1** RMSE маленькая и почти идеально совпадает с реальными значениями — это подтверждает подозрение на утечку данных (идеальная линейная зависимость между f2 и product).\n",
    "\n",
    "- Модели для регионов 0 и 2 выглядят более реалистично и пригодно для оценки рисков.\n",
    "\n",
    "- Средний предсказанный запас у **региона 2 — самый высокий**.\n"
   ]
  },
  {
   "cell_type": "markdown",
   "id": "3c8faeb0",
   "metadata": {},
   "source": [
    "## 3. Подготовка к расчету прибыли"
   ]
  },
  {
   "cell_type": "code",
   "execution_count": 13,
   "id": "1882aef4",
   "metadata": {},
   "outputs": [
    {
     "name": "stdout",
     "output_type": "stream",
     "text": [
      "Объём сырья для окупаемости одной скважины: 111.11111111111111\n"
     ]
    }
   ],
   "source": [
    "BUDGET = 10_000_000_000  # общий бюджет\n",
    "OIL_WELLS = 200          # количество лучших скважин\n",
    "PROFIT = 450_000         # доход с 1 барреля сырья\n",
    "\n",
    "ONE_WELL = BUDGET / OIL_WELLS\n",
    "print('Объём сырья для окупаемости одной скважины:', ONE_WELL / PROFIT)"
   ]
  },
  {
   "cell_type": "code",
   "execution_count": 14,
   "id": "2aee0df3",
   "metadata": {},
   "outputs": [
    {
     "name": "stdout",
     "output_type": "stream",
     "text": [
      "Регион 0 — средний фактический объём: 92.33 тыс. баррелей\n",
      "Регион 1 — средний фактический объём: 68.73 тыс. баррелей\n",
      "Регион 2 — средний фактический объём: 95.15 тыс. баррелей\n"
     ]
    }
   ],
   "source": [
    "mean_targets = {\n",
    "    'Регион 0': target_0.mean(),\n",
    "    'Регион 1': target_1.mean(),\n",
    "    'Регион 2': target_2.mean()\n",
    "}\n",
    "\n",
    "for region, mean_volume in mean_targets.items():\n",
    "    print(f\"{region} — средний фактический объём: {mean_volume:.2f} тыс. баррелей\")"
   ]
  },
  {
   "cell_type": "markdown",
   "id": "ecc97c82",
   "metadata": {},
   "source": [
    "### Вывод"
   ]
  },
  {
   "cell_type": "markdown",
   "id": "00c9d163",
   "metadata": {},
   "source": [
    "Средние фактические объёмы сырья по регионам:\n",
    "- **Регион 0** — 92.33 тыс. баррелей\n",
    "- **Регион 1** — 68.73 тыс. баррелей\n",
    "- **Регион 2** — 95.15 тыс. баррелей\n",
    "\n",
    "**Вывод:** ни один регион в среднем **не достигает порога безубыточности**. Однако регионы 0 и 2 приближаются к этой границе и могут оказаться прибыльными при выборе 200 лучших скважин, поэтому мы все равно расчитаем прибыль. \n",
    "**Регион 1 существенно отстаёт** — как по средним запасам, так и по достоверности модели.\n"
   ]
  },
  {
   "cell_type": "markdown",
   "id": "c4e6e407",
   "metadata": {},
   "source": [
    "## 4. Расчет прибыли"
   ]
  },
  {
   "cell_type": "code",
   "execution_count": 16,
   "id": "2d7050f8",
   "metadata": {},
   "outputs": [
    {
     "name": "stdout",
     "output_type": "stream",
     "text": [
      "Регион 0\n",
      "Суммарный объём сырья лучших 200 скважин: 29686.98 тыс. барр.\n",
      "Прибыль от лучших скважин: 3359141114.46 руб.\n",
      "--------------------------------------------------\n",
      "Регион 1\n",
      "Суммарный объём сырья лучших 200 скважин: 27589.08 тыс. барр.\n",
      "Прибыль от лучших скважин: 2415086696.68 руб.\n",
      "--------------------------------------------------\n",
      "Регион 2\n",
      "Суммарный объём сырья лучших 200 скважин: 27996.83 тыс. барр.\n",
      "Прибыль от лучших скважин: 2598571759.37 руб.\n",
      "--------------------------------------------------\n"
     ]
    }
   ],
   "source": [
    "def analyze_best_wells(region_name, predictions, target, count):\n",
    "    predictions = predictions.reset_index(drop=True)\n",
    "    target = target.reset_index(drop=True)\n",
    "    \n",
    "    top_indices = predictions.sort_values(ascending=False).index[:count]\n",
    "    selected_target = target[top_indices]\n",
    "    \n",
    "    total_oil = selected_target.sum()\n",
    "    total_profit = total_oil * PROFIT - BUDGET\n",
    "\n",
    "    print(f'Регион {region_name}')\n",
    "    print(f'Суммарный объём сырья лучших {count} скважин: {total_oil:.2f} тыс. барр.')\n",
    "    print(f'Прибыль от лучших скважин: {total_profit:.2f} руб.')\n",
    "    print('-' * 50)\n",
    "\n",
    "analyze_best_wells(0, preds_0, target_0, OIL_WELLS)\n",
    "analyze_best_wells(1, preds_1, target_1, OIL_WELLS)\n",
    "analyze_best_wells(2, preds_2, target_2, OIL_WELLS)"
   ]
  },
  {
   "cell_type": "markdown",
   "id": "d27e8e57",
   "metadata": {},
   "source": [
    "### Вывод"
   ]
  },
  {
   "cell_type": "markdown",
   "id": "650fcf49",
   "metadata": {},
   "source": [
    "Для каждого региона был рассчитан объём сырья и прибыль от 200 лучших скважин по предсказаниям модели:\n",
    "\n",
    "- **Регион 0**:\n",
    "  - Суммарный объём сырья лучших 200 скважин: **29,686.98 тыс. барр.**\n",
    "  - Прибыль: **3,36 млрд руб.**\n",
    "\n",
    "- **Регион 1**:\n",
    "  - Суммарный объём сырья лучших 200 скважин: **27,589.08 тыс. барр.**\n",
    "  - Прибыль: **2,42 млрд руб.**\n",
    "\n",
    "- **Регион 2**:\n",
    "  - Суммарный объём сырья лучших 200 скважин: **27,996.83 тыс. барр.**\n",
    "  - Прибыль: **2,6 млрд руб.**\n",
    "\n",
    "**Вывод:**\n",
    "- **Регион 0** демонстрирует наибольшую прибыль, составляющую **3.36 млрд руб.** — это самый перспективный регион для разработки, несмотря на то, что средний объём сырья меньше порога безубыточности.\n",
    "- **Регион 1** показывает наименьшую прибыль, меньший объем сырья и ненадежная модель.\n",
    "- **Регион 2** также имеет хорошую прибыль, но уступает региону 0."
   ]
  },
  {
   "cell_type": "markdown",
   "id": "da327745",
   "metadata": {},
   "source": [
    "## 5. Риски и прибыль для каждого региона"
   ]
  },
  {
   "cell_type": "code",
   "execution_count": 17,
   "id": "8cd4379c",
   "metadata": {},
   "outputs": [],
   "source": [
    "def revenue(target, predictions, count=OIL_WELLS):\n",
    "    top_indices = predictions.sort_values(ascending=False).index[:count]\n",
    "    selected_target = target.loc[top_indices]\n",
    "    return selected_target.sum() * PROFIT - BUDGET"
   ]
  },
  {
   "cell_type": "code",
   "execution_count": 18,
   "id": "6ee3576b",
   "metadata": {},
   "outputs": [],
   "source": [
    "def bootstrap(target, predictions, region_name):\n",
    "    bootstrap_samples = 1000\n",
    "    state = np.random.RandomState(12345)\n",
    "    values = []\n",
    "\n",
    "    data = pd.DataFrame({'target': target, 'predictions': predictions}).reset_index(drop=True)\n",
    "\n",
    "    for i in range(bootstrap_samples):\n",
    "        sample = data.sample(n=500, replace=True, random_state=state)\n",
    "        values.append(revenue(sample['target'], sample['predictions']))\n",
    "\n",
    "    values = pd.Series(values)\n",
    "    mean = values.mean()\n",
    "    lower = values.quantile(.025)\n",
    "    upper = values.quantile(.975)\n",
    "\n",
    "    print(f\"[Регион {region_name}]\")\n",
    "    print(\"Средняя выручка, млн.руб.:\", mean)\n",
    "    print(\"Доверительный интервал, минимум:\", lower)\n",
    "    print(\"Доверительный интервал, максимум:\", upper)\n",
    "    print(\"Риски убытка:\", (values < 0).mean())\n",
    "    \n",
    "    ax = values.plot(kind='hist', bins=10, grid=True, title=f'Гистограмма прибыли — Регион {region_name}')\n",
    "    ax.set_xlabel('Прибыль, млн.руб.', fontsize=10)\n",
    "    plt.show()"
   ]
  },
  {
   "cell_type": "code",
   "execution_count": 19,
   "id": "4f146cdb",
   "metadata": {},
   "outputs": [
    {
     "name": "stdout",
     "output_type": "stream",
     "text": [
      "[Регион 0]\n",
      "Средняя выручка, млн.руб.: 615047004.394259\n",
      "Доверительный интервал, минимум: -20884982.29624209\n",
      "Доверительный интервал, максимум: 1239730575.9180634\n",
      "Риски убытка: 0.03\n"
     ]
    },
    {
     "data": {
      "image/png": "[encoded data removed]",
      "text/plain": [
       "<Figure size 432x288 with 1 Axes>"
      ]
     },
     "metadata": {
      "needs_background": "light"
     },
     "output_type": "display_data"
    },
    {
     "name": "stdout",
     "output_type": "stream",
     "text": [
      "[Регион 1]\n",
      "Средняя выручка, млн.руб.: 639637181.1031605\n",
      "Доверительный интервал, минимум: 142332783.31613287\n",
      "Доверительный интервал, максимум: 1195489473.2361748\n",
      "Риски убытка: 0.004\n"
     ]
    },
    {
     "data": {
      "image/png": "[encoded data removed]",
      "text/plain": [
       "<Figure size 432x288 with 1 Axes>"
      ]
     },
     "metadata": {
      "needs_background": "light"
     },
     "output_type": "display_data"
    },
    {
     "name": "stdout",
     "output_type": "stream",
     "text": [
      "[Регион 2]\n",
      "Средняя выручка, млн.руб.: 587106344.7958653\n",
      "Доверительный интервал, минимум: -8459142.891548958\n",
      "Доверительный интервал, максимум: 1283241366.0123456\n",
      "Риски убытка: 0.026\n"
     ]
    },
    {
     "data": {
      "image/png": "[encoded data removed]",
      "text/plain": [
       "<Figure size 432x288 with 1 Axes>"
      ]
     },
     "metadata": {
      "needs_background": "light"
     },
     "output_type": "display_data"
    }
   ],
   "source": [
    "bootstrap(target_0, preds_0, '0')\n",
    "bootstrap(target_1, preds_1, '1')\n",
    "bootstrap(target_2, preds_2, '2')"
   ]
  },
  {
   "cell_type": "markdown",
   "id": "1c8fff5e",
   "metadata": {},
   "source": [
    "### Вывод"
   ]
  },
  {
   "cell_type": "markdown",
   "id": "f3403c5a",
   "metadata": {},
   "source": [
    "1. **Регион 0**:\n",
    "   - Средняя прибыль: **615.05 млн руб.**\n",
    "   - 95%-й доверительный интервал: от -20.88 млн руб. до 1,239.73 млн руб\n",
    "   - Вероятность убытков: **3%** \n",
    "\n",
    "2. **Регион 1**:\n",
    "   - Средняя прибыль: **639.64 млн руб.**\n",
    "   - 95%-й доверительный интервал: от 142.33 млн руб. до 1,195.49 млн руб.\n",
    "   - Вероятность убытков: **0.4%** \n",
    "\n",
    "3. **Регион 2**:\n",
    "   - Средняя прибыль: **587.11 млн руб.**\n",
    "   - 95%-й доверительный интервал: от -8.46 млн руб. до 1,283.24 млн руб.\n",
    "   - Вероятность убытков: **меньше 2.6%** "
   ]
  },
  {
   "cell_type": "markdown",
   "id": "e1e757d2",
   "metadata": {},
   "source": [
    "## Вывод"
   ]
  },
  {
   "cell_type": "markdown",
   "id": "aa06aceb",
   "metadata": {},
   "source": [
    "**Регионы и их потенциальная прибыль:**  \n",
    "\n",
    "1. Регион 0: Наибольшая прибыль (3.36 млрд руб.) и самый высокий риск убытков (3%). Регион 0 остаётся лучшим вариантом с точки зрения прибыли, несмотря на высокий риск.  \n",
    "\n",
    "2. Регион 1: Наименьшая прибыль (2.42 млрд руб.) и ненадёжная модель (потенциальная утечка данных).\n",
    "\n",
    "3. Регион 2: Хорошая прибыль (2.6 млрд руб.) и риски убытков в пределах 2.6%. Регион 2 является вторым по привлекательности после региона 0.  \n",
    "\n",
    "Если выбирать из наименее рискованных регионов с наибольшей прибылью - лучшим вариантом будет регион 0. Вторым в \"топе\" являеся регион 2, а вот регион 1 - самый непредсказуемый. "
   ]
  }
 ],
 "metadata": {
  "kernelspec": {
   "display_name": "Python 3",
   "language": "python",
   "name": "python3"
  },
  "language_info": {
   "codemirror_mode": {
    "name": "ipython",
    "version": 3
   },
   "file_extension": ".py",
   "mimetype": "text/x-python",
   "name": "python",
   "nbconvert_exporter": "python",
   "pygments_lexer": "ipython3",
   "version": "3.8.8"
  }
 },
 "nbformat": 4,
 "nbformat_minor": 5
}
