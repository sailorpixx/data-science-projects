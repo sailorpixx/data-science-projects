{
 "cells": [
  {
   "cell_type": "markdown",
   "id": "d89612c7",
   "metadata": {},
   "source": [
    "# Прогнозирование заказов такси"
   ]
  },
  {
   "cell_type": "markdown",
   "id": "141bc245",
   "metadata": {},
   "source": [
    "Компания «Чётенькое такси» собрала исторические данные о заказах такси в аэропортах. Чтобы привлекать больше водителей в период пиковой нагрузки, нам нужно спрогнозировать количество заказов такси на следующий час и построить модель для такого предсказания."
   ]
  },
  {
   "cell_type": "markdown",
   "id": "ff9e775a",
   "metadata": {},
   "source": [
    "**Цель исследования** — построить модель машинного обучения, способную прогнозировать количество заказов на такси на один час вперёд, с точностью, обеспечивающей значение метрики RMSE не выше 48 на тестовой выборке."
   ]
  },
  {
   "cell_type": "markdown",
   "id": "cb7a2de7",
   "metadata": {},
   "source": [
    "**Задачи исследования:**  \n",
    "\n",
    "1. Загрузить и предварительно обработать данные.  \n",
    "2. Провести ресемплирование данных по одному часу.  \n",
    "3. Исследовать и визуализировать временные ряды.   \n",
    "4. Обучить несколько моделей с различными гиперпараметрами.  \n",
    "5. Сравнить качество моделей с использованием метрики RMSE.  \n",
    "6. Выбрать наилучшую модель и сделать финальное предсказание.  \n",
    "7. Оценить качество финальной модели на тестовой выборке.  \n",
    "8. Сделать выводы и рекомендации по использованию модели.  "
   ]
  },
  {
   "cell_type": "markdown",
   "id": "9352462b",
   "metadata": {},
   "source": [
    "**Описание данных:**\n",
    "\n",
    "В распоряжении находятся исторические данные о количестве заказов такси.  \n",
    "\n",
    "- Файл: `/datasets/taxi.csv`\n",
    "- Признаки:\n",
    "  - `datetime` — дата и время;\n",
    "  - `num_orders` — количество заказов такси за указанный момент времени."
   ]
  },
  {
   "cell_type": "code",
   "execution_count": 1,
   "id": "7ba5e4f6",
   "metadata": {},
   "outputs": [],
   "source": [
    "import warnings"
   ]
  },
  {
   "cell_type": "code",
   "execution_count": 2,
   "id": "ca441924",
   "metadata": {},
   "outputs": [],
   "source": [
    "warnings.simplefilter(action='ignore', category=FutureWarning)"
   ]
  },
  {
   "cell_type": "code",
   "execution_count": 1,
   "id": "8e626241",
   "metadata": {},
   "outputs": [],
   "source": [
    "# подгружаем нужные библиотеки \n",
    "\n",
    "import pandas as pd\n",
    "import matplotlib.pyplot as plt\n",
    "import seaborn as sns\n",
    "import numpy as np\n",
    "from statsmodels.tsa.seasonal import seasonal_decompose\n",
    "from sklearn.model_selection import train_test_split, TimeSeriesSplit, cross_val_score, GridSearchCV\n",
    "from sklearn.linear_model import LinearRegression\n",
    "from sklearn.metrics import mean_squared_error\n",
    "from sklearn.tree import DecisionTreeRegressor\n",
    "from sklearn.ensemble import RandomForestRegressor\n",
    "from catboost import CatBoostRegressor\n",
    "import lightgbm as lgb"
   ]
  },
  {
   "cell_type": "markdown",
   "id": "6bfed11e",
   "metadata": {},
   "source": [
    "## Загрузка данных"
   ]
  },
  {
   "cell_type": "code",
   "execution_count": 2,
   "id": "9c0a4efc",
   "metadata": {},
   "outputs": [],
   "source": [
    "df = pd.read_csv('https://code.s3.yandex.net/datasets/taxi.csv', parse_dates =[0], index_col= 0)"
   ]
  },
  {
   "cell_type": "code",
   "execution_count": 3,
   "id": "e335d1f4",
   "metadata": {},
   "outputs": [],
   "source": [
    "# функция для получения базовой информации о датасетах\n",
    "\n",
    "def get_info(df):\n",
    "    print(\"Размер датасета:\", df.shape, sep='\\n', end='\\n\\n')\n",
    "    display(df)\n",
    "    print('\\n')\n",
    "    display(df.info())\n",
    "    print('\\n')\n",
    "    display(df.describe().T)\n",
    "    print(\"Количество пропусков:\", df.isna().sum(), sep='\\n', end='\\n\\n')\n",
    "    print(\"Количество явных дубликатов:\", df.duplicated().sum(), end='\\n\\n')\n",
    "    display(df[df.duplicated() == True])"
   ]
  },
  {
   "cell_type": "code",
   "execution_count": 4,
   "id": "8b16bc23",
   "metadata": {},
   "outputs": [
    {
     "name": "stdout",
     "output_type": "stream",
     "text": [
      "Размер датасета:\n",
      "(26496, 1)\n",
      "\n"
     ]
    },
    {
     "data": {
      "text/html": [
       "<div>\n",
       "<style scoped>\n",
       "    .dataframe tbody tr th:only-of-type {\n",
       "        vertical-align: middle;\n",
       "    }\n",
       "\n",
       "    .dataframe tbody tr th {\n",
       "        vertical-align: top;\n",
       "    }\n",
       "\n",
       "    .dataframe thead th {\n",
       "        text-align: right;\n",
       "    }\n",
       "</style>\n",
       "<table border=\"1\" class=\"dataframe\">\n",
       "  <thead>\n",
       "    <tr style=\"text-align: right;\">\n",
       "      <th></th>\n",
       "      <th>num_orders</th>\n",
       "    </tr>\n",
       "    <tr>\n",
       "      <th>datetime</th>\n",
       "      <th></th>\n",
       "    </tr>\n",
       "  </thead>\n",
       "  <tbody>\n",
       "    <tr>\n",
       "      <th>2018-03-01 00:00:00</th>\n",
       "      <td>9</td>\n",
       "    </tr>\n",
       "    <tr>\n",
       "      <th>2018-03-01 00:10:00</th>\n",
       "      <td>14</td>\n",
       "    </tr>\n",
       "    <tr>\n",
       "      <th>2018-03-01 00:20:00</th>\n",
       "      <td>28</td>\n",
       "    </tr>\n",
       "    <tr>\n",
       "      <th>2018-03-01 00:30:00</th>\n",
       "      <td>20</td>\n",
       "    </tr>\n",
       "    <tr>\n",
       "      <th>2018-03-01 00:40:00</th>\n",
       "      <td>32</td>\n",
       "    </tr>\n",
       "    <tr>\n",
       "      <th>...</th>\n",
       "      <td>...</td>\n",
       "    </tr>\n",
       "    <tr>\n",
       "      <th>2018-08-31 23:10:00</th>\n",
       "      <td>32</td>\n",
       "    </tr>\n",
       "    <tr>\n",
       "      <th>2018-08-31 23:20:00</th>\n",
       "      <td>24</td>\n",
       "    </tr>\n",
       "    <tr>\n",
       "      <th>2018-08-31 23:30:00</th>\n",
       "      <td>27</td>\n",
       "    </tr>\n",
       "    <tr>\n",
       "      <th>2018-08-31 23:40:00</th>\n",
       "      <td>39</td>\n",
       "    </tr>\n",
       "    <tr>\n",
       "      <th>2018-08-31 23:50:00</th>\n",
       "      <td>53</td>\n",
       "    </tr>\n",
       "  </tbody>\n",
       "</table>\n",
       "<p>26496 rows × 1 columns</p>\n",
       "</div>"
      ],
      "text/plain": [
       "                     num_orders\n",
       "datetime                       \n",
       "2018-03-01 00:00:00           9\n",
       "2018-03-01 00:10:00          14\n",
       "2018-03-01 00:20:00          28\n",
       "2018-03-01 00:30:00          20\n",
       "2018-03-01 00:40:00          32\n",
       "...                         ...\n",
       "2018-08-31 23:10:00          32\n",
       "2018-08-31 23:20:00          24\n",
       "2018-08-31 23:30:00          27\n",
       "2018-08-31 23:40:00          39\n",
       "2018-08-31 23:50:00          53\n",
       "\n",
       "[26496 rows x 1 columns]"
      ]
     },
     "metadata": {},
     "output_type": "display_data"
    },
    {
     "name": "stdout",
     "output_type": "stream",
     "text": [
      "\n",
      "\n",
      "<class 'pandas.core.frame.DataFrame'>\n",
      "DatetimeIndex: 26496 entries, 2018-03-01 00:00:00 to 2018-08-31 23:50:00\n",
      "Data columns (total 1 columns):\n",
      " #   Column      Non-Null Count  Dtype\n",
      "---  ------      --------------  -----\n",
      " 0   num_orders  26496 non-null  int64\n",
      "dtypes: int64(1)\n",
      "memory usage: 414.0 KB\n"
     ]
    },
    {
     "data": {
      "text/plain": [
       "None"
      ]
     },
     "metadata": {},
     "output_type": "display_data"
    },
    {
     "name": "stdout",
     "output_type": "stream",
     "text": [
      "\n",
      "\n"
     ]
    },
    {
     "data": {
      "text/html": [
       "<div>\n",
       "<style scoped>\n",
       "    .dataframe tbody tr th:only-of-type {\n",
       "        vertical-align: middle;\n",
       "    }\n",
       "\n",
       "    .dataframe tbody tr th {\n",
       "        vertical-align: top;\n",
       "    }\n",
       "\n",
       "    .dataframe thead th {\n",
       "        text-align: right;\n",
       "    }\n",
       "</style>\n",
       "<table border=\"1\" class=\"dataframe\">\n",
       "  <thead>\n",
       "    <tr style=\"text-align: right;\">\n",
       "      <th></th>\n",
       "      <th>count</th>\n",
       "      <th>mean</th>\n",
       "      <th>std</th>\n",
       "      <th>min</th>\n",
       "      <th>25%</th>\n",
       "      <th>50%</th>\n",
       "      <th>75%</th>\n",
       "      <th>max</th>\n",
       "    </tr>\n",
       "  </thead>\n",
       "  <tbody>\n",
       "    <tr>\n",
       "      <th>num_orders</th>\n",
       "      <td>26496.0</td>\n",
       "      <td>14.070463</td>\n",
       "      <td>9.21133</td>\n",
       "      <td>0.0</td>\n",
       "      <td>8.0</td>\n",
       "      <td>13.0</td>\n",
       "      <td>19.0</td>\n",
       "      <td>119.0</td>\n",
       "    </tr>\n",
       "  </tbody>\n",
       "</table>\n",
       "</div>"
      ],
      "text/plain": [
       "              count       mean      std  min  25%   50%   75%    max\n",
       "num_orders  26496.0  14.070463  9.21133  0.0  8.0  13.0  19.0  119.0"
      ]
     },
     "metadata": {},
     "output_type": "display_data"
    },
    {
     "name": "stdout",
     "output_type": "stream",
     "text": [
      "Количество пропусков:\n",
      "num_orders    0\n",
      "dtype: int64\n",
      "\n",
      "Количество явных дубликатов: 26415\n",
      "\n"
     ]
    },
    {
     "data": {
      "text/html": [
       "<div>\n",
       "<style scoped>\n",
       "    .dataframe tbody tr th:only-of-type {\n",
       "        vertical-align: middle;\n",
       "    }\n",
       "\n",
       "    .dataframe tbody tr th {\n",
       "        vertical-align: top;\n",
       "    }\n",
       "\n",
       "    .dataframe thead th {\n",
       "        text-align: right;\n",
       "    }\n",
       "</style>\n",
       "<table border=\"1\" class=\"dataframe\">\n",
       "  <thead>\n",
       "    <tr style=\"text-align: right;\">\n",
       "      <th></th>\n",
       "      <th>num_orders</th>\n",
       "    </tr>\n",
       "    <tr>\n",
       "      <th>datetime</th>\n",
       "      <th></th>\n",
       "    </tr>\n",
       "  </thead>\n",
       "  <tbody>\n",
       "    <tr>\n",
       "      <th>2018-03-01 02:10:00</th>\n",
       "      <td>12</td>\n",
       "    </tr>\n",
       "    <tr>\n",
       "      <th>2018-03-01 02:20:00</th>\n",
       "      <td>19</td>\n",
       "    </tr>\n",
       "    <tr>\n",
       "      <th>2018-03-01 03:00:00</th>\n",
       "      <td>8</td>\n",
       "    </tr>\n",
       "    <tr>\n",
       "      <th>2018-03-01 03:10:00</th>\n",
       "      <td>17</td>\n",
       "    </tr>\n",
       "    <tr>\n",
       "      <th>2018-03-01 03:20:00</th>\n",
       "      <td>7</td>\n",
       "    </tr>\n",
       "    <tr>\n",
       "      <th>...</th>\n",
       "      <td>...</td>\n",
       "    </tr>\n",
       "    <tr>\n",
       "      <th>2018-08-31 23:10:00</th>\n",
       "      <td>32</td>\n",
       "    </tr>\n",
       "    <tr>\n",
       "      <th>2018-08-31 23:20:00</th>\n",
       "      <td>24</td>\n",
       "    </tr>\n",
       "    <tr>\n",
       "      <th>2018-08-31 23:30:00</th>\n",
       "      <td>27</td>\n",
       "    </tr>\n",
       "    <tr>\n",
       "      <th>2018-08-31 23:40:00</th>\n",
       "      <td>39</td>\n",
       "    </tr>\n",
       "    <tr>\n",
       "      <th>2018-08-31 23:50:00</th>\n",
       "      <td>53</td>\n",
       "    </tr>\n",
       "  </tbody>\n",
       "</table>\n",
       "<p>26415 rows × 1 columns</p>\n",
       "</div>"
      ],
      "text/plain": [
       "                     num_orders\n",
       "datetime                       \n",
       "2018-03-01 02:10:00          12\n",
       "2018-03-01 02:20:00          19\n",
       "2018-03-01 03:00:00           8\n",
       "2018-03-01 03:10:00          17\n",
       "2018-03-01 03:20:00           7\n",
       "...                         ...\n",
       "2018-08-31 23:10:00          32\n",
       "2018-08-31 23:20:00          24\n",
       "2018-08-31 23:30:00          27\n",
       "2018-08-31 23:40:00          39\n",
       "2018-08-31 23:50:00          53\n",
       "\n",
       "[26415 rows x 1 columns]"
      ]
     },
     "metadata": {},
     "output_type": "display_data"
    }
   ],
   "source": [
    "get_info(df)"
   ]
  },
  {
   "cell_type": "markdown",
   "id": "e9b4139d",
   "metadata": {},
   "source": [
    "Пропуски отсутствуют. Рассемплируем по одному часу. "
   ]
  },
  {
   "cell_type": "code",
   "execution_count": 5,
   "id": "4357e659",
   "metadata": {},
   "outputs": [
    {
     "data": {
      "text/plain": [
       "True"
      ]
     },
     "execution_count": 5,
     "metadata": {},
     "output_type": "execute_result"
    }
   ],
   "source": [
    "df.index.is_monotonic"
   ]
  },
  {
   "cell_type": "code",
   "execution_count": 6,
   "id": "728e1357",
   "metadata": {},
   "outputs": [],
   "source": [
    "df = df.resample('1H').sum()"
   ]
  },
  {
   "cell_type": "markdown",
   "id": "5683a7a8",
   "metadata": {},
   "source": [
    "## Анализ данных"
   ]
  },
  {
   "cell_type": "code",
   "execution_count": 7,
   "id": "33a219ec",
   "metadata": {},
   "outputs": [],
   "source": [
    "sns.set(style='whitegrid', palette='pastel')\n",
    "plt.rcParams['figure.figsize'] = (14, 4)"
   ]
  },
  {
   "cell_type": "code",
   "execution_count": 8,
   "id": "37eeab02",
   "metadata": {},
   "outputs": [],
   "source": [
    "def plot_series(series, title):\n",
    "    plt.plot(series, linewidth=2, color='steelblue')\n",
    "    plt.title(title, fontsize=14, fontweight='bold')\n",
    "    plt.xlabel('Время')\n",
    "    plt.ylabel('Количество заказов')\n",
    "    plt.grid(True, linestyle='--', alpha=0.5)\n",
    "    plt.tight_layout()\n",
    "    plt.show()"
   ]
  },
  {
   "cell_type": "code",
   "execution_count": 9,
   "id": "0d02b959",
   "metadata": {},
   "outputs": [],
   "source": [
    "result = seasonal_decompose(df)"
   ]
  },
  {
   "cell_type": "code",
   "execution_count": 10,
   "id": "b658b6de",
   "metadata": {
    "scrolled": true
   },
   "outputs": [
    {
     "data": {
      "image/png": "[encoded data removed]",
      "text/plain": [
       "<Figure size 432x288 with 1 Axes>"
      ]
     },
     "metadata": {
      "needs_background": "light"
     },
     "output_type": "display_data"
    },
    {
     "data": {
      "image/png": "[encoded data removed]",
      "text/plain": [
       "<Figure size 432x288 with 1 Axes>"
      ]
     },
     "metadata": {
      "needs_background": "light"
     },
     "output_type": "display_data"
    },
    {
     "data": {
      "image/png": "[encoded data removed]",
      "text/plain": [
       "<Figure size 432x288 with 1 Axes>"
      ]
     },
     "metadata": {
      "needs_background": "light"
     },
     "output_type": "display_data"
    },
    {
     "data": {
      "image/png": "[encoded data removed]",
      "text/plain": [
       "<Figure size 432x288 with 1 Axes>"
      ]
     },
     "metadata": {
      "needs_background": "light"
     },
     "output_type": "display_data"
    }
   ],
   "source": [
    "plot_series(result.trend, 'Тренд')\n",
    "plot_series(result.trend.rolling(window=24*7).mean(), 'Сглаженный тренд (неделя)')\n",
    "plot_series(result.seasonal.tail(24*7), 'Сезонность (последняя неделя)')\n",
    "plot_series(result.resid, 'Шумы')"
   ]
  },
  {
   "cell_type": "markdown",
   "id": "ca247a38",
   "metadata": {},
   "source": [
    "Можно сделать следующие выводы:\t \n",
    "\n",
    "1. Наблюдается явный положительный тренд — количество заказов растёт со временем. Это говорит о том, что модель должна учитывать общий рост популярности сервиса (например, за счёт трендовых признаков - номер недели, месяца и тд).  \n",
    "\n",
    "2. Сглаженный тренд подчеркивает устойчивый рост заказов, особенно в последние месяцы.  \n",
    "\n",
    "3. Видна четкая недельная сезонность, выраженная резкими пиками и падениями. Вероятно, пик заказов приходится на выходные или будние дни в определнные часы  \n",
    "\n",
    "4. Шумовая компонента содержит много выбросов, особенно в последние месяцы, где наблюдаются резкие всплески и падения. Это говорит о том, что часть колебаний не объясняется трендом и сезонностью — могут быть внешние или случайные факторы.  "
   ]
  },
  {
   "cell_type": "markdown",
   "id": "d8b75882",
   "metadata": {},
   "source": [
    "## Обучение модели"
   ]
  },
  {
   "cell_type": "code",
   "execution_count": 11,
   "id": "4e473ce5",
   "metadata": {},
   "outputs": [
    {
     "data": {
      "text/plain": [
       "<Figure size 720x432 with 0 Axes>"
      ]
     },
     "metadata": {},
     "output_type": "display_data"
    },
    {
     "data": {
      "image/png": "[encoded data removed]",
      "text/plain": [
       "<Figure size 432x288 with 1 Axes>"
      ]
     },
     "metadata": {
      "needs_background": "light"
     },
     "output_type": "display_data"
    }
   ],
   "source": [
    "from statsmodels.graphics.tsaplots import plot_pacf\n",
    "\n",
    "plt.figure(figsize=(10, 6))\n",
    "plot_pacf(df['num_orders'], lags=190, method='ywm', alpha=0.05)\n",
    "plt.title(\"Частичная автокорреляция\", fontsize=16)\n",
    "plt.show()"
   ]
  },
  {
   "cell_type": "code",
   "execution_count": 12,
   "id": "cb6b9a0d",
   "metadata": {},
   "outputs": [],
   "source": [
    "def extract_time_features(df):\n",
    "    df = df.copy()\n",
    "    df[\"weekday\"] = df.index.dayofweek\n",
    "    df[\"hour\"]    = df.index.hour\n",
    "\n",
    "    # 1, 2, 3, 24, 36, 48, 168\n",
    "    selected_lags = list(range(1, 4)) + [24, 36, 48, 168]\n",
    "    for lag in selected_lags:\n",
    "        df[f\"lag_{lag}\"] = df[\"num_orders\"].shift(lag)\n",
    "\n",
    "    # скользящее средне\n",
    "    df[\"rolling_avg_24h\"] = df[\"num_orders\"].shift(1).rolling(window=24).mean()\n",
    "\n",
    "    df.dropna(inplace=True)\n",
    "    return df\n",
    "\n",
    "learning_df = extract_time_features(df)"
   ]
  },
  {
   "cell_type": "markdown",
   "id": "fa64d099",
   "metadata": {},
   "source": [
    "**Исправила на первые 3 лага, 24, 48, 168. Я пробовала взять первые 12, но в таком случае модели обучаются очень долго. LGBM, например, дольше часа.**"
   ]
  },
  {
   "cell_type": "markdown",
   "id": "63b13537",
   "metadata": {},
   "source": [
    "**Так как месяц не нужен (годовая сезонность, данные только за полгода), его удалила. Оставляем только день недели и час. Также создала лаги на 1ч, 24ч и 168ч (неделя), так как это видно из автокорреляции**"
   ]
  },
  {
   "cell_type": "code",
   "execution_count": 13,
   "id": "86272709",
   "metadata": {},
   "outputs": [
    {
     "data": {
      "image/png": "[encoded data removed]",
      "text/plain": [
       "<Figure size 1332x432 with 1 Axes>"
      ]
     },
     "metadata": {
      "needs_background": "light"
     },
     "output_type": "display_data"
    }
   ],
   "source": [
    "from statsmodels.graphics import tsaplots\n",
    "\n",
    "taxi = pd.read_csv('https://code.s3.yandex.net/datasets/taxi.csv', index_col=[0], parse_dates=[0]).resample('1H').sum()\n",
    "ts = taxi['num_orders']\n",
    "\n",
    "fig = tsaplots.plot_acf(ts,lags= 190)\n",
    "fig.set_size_inches(18.5, 6)\n",
    "plt.ylim(-.1, 1.1)\n",
    "plt.show() "
   ]
  },
  {
   "cell_type": "code",
   "execution_count": 14,
   "id": "80d85b7f",
   "metadata": {},
   "outputs": [],
   "source": [
    "X = learning_df.drop(['num_orders'], axis=1)\n",
    "y = learning_df['num_orders'] "
   ]
  },
  {
   "cell_type": "code",
   "execution_count": 15,
   "id": "72d81208",
   "metadata": {},
   "outputs": [],
   "source": [
    "# тестовая выборка 10% от исходных данных в требовании проекта\n",
    "\n",
    "RANDOM_STATE = 42\n",
    "\n",
    "X_train, X_test, y_train, y_test = train_test_split(\n",
    "    X, y, test_size=0.1, shuffle=False\n",
    ")"
   ]
  },
  {
   "cell_type": "markdown",
   "id": "13f785c9",
   "metadata": {},
   "source": [
    "### Линейная регрессия"
   ]
  },
  {
   "cell_type": "code",
   "execution_count": 16,
   "id": "97576c24",
   "metadata": {},
   "outputs": [],
   "source": [
    "models = []"
   ]
  },
  {
   "cell_type": "code",
   "execution_count": 17,
   "id": "ce9ff7d3",
   "metadata": {},
   "outputs": [
    {
     "name": "stdout",
     "output_type": "stream",
     "text": [
      "Среднее RMSE по кросс валидации для Linear Regression: 23.44\n"
     ]
    }
   ],
   "source": [
    "tscv = TimeSeriesSplit(n_splits=3)\n",
    "\n",
    "linear_model = LinearRegression()\n",
    "\n",
    "cv_scores = cross_val_score(\n",
    "    linear_model, X_train, y_train,\n",
    "    scoring='neg_mean_squared_error',\n",
    "    cv=tscv\n",
    ")\n",
    "\n",
    "train_rmse = round(np.mean(-cv_scores)**0.5, 2)\n",
    "\n",
    "print(f\"Среднее RMSE по кросс валидации для Linear Regression: {train_rmse}\")\n",
    "\n",
    "linear_model.fit(X_train, y_train)\n",
    "models.append([linear_model, train_rmse])"
   ]
  },
  {
   "cell_type": "markdown",
   "id": "325e308c",
   "metadata": {},
   "source": [
    "### Случайный лес"
   ]
  },
  {
   "cell_type": "code",
   "execution_count": 18,
   "id": "69c69cc1",
   "metadata": {
    "scrolled": false
   },
   "outputs": [
    {
     "name": "stdout",
     "output_type": "stream",
     "text": [
      "RMSE для RandomForestRegressor на трейне: 18.21\n",
      "Лучшие гиперпараметры: {'max_depth': 7, 'n_estimators': 60}\n"
     ]
    }
   ],
   "source": [
    "forest_model = RandomForestRegressor(random_state=RANDOM_STATE)\n",
    "\n",
    "param_grid = {\n",
    "    'n_estimators': range(60, 121, 20), \n",
    "    'max_depth': [3, 5, 7, 9]\n",
    "}\n",
    "\n",
    "tscv = TimeSeriesSplit(n_splits=3)\n",
    "\n",
    "grid_search = GridSearchCV(estimator=forest_model, param_grid=param_grid, cv=tscv)\n",
    "grid_search.fit(X_train, y_train)\n",
    "\n",
    "train_preds_rf = grid_search.predict(X_train)\n",
    "train_rmse_rf = mean_squared_error(y_train, train_preds_rf, squared=False)\n",
    "\n",
    "models.append([grid_search.best_estimator_, train_rmse_rf, grid_search.best_params_])\n",
    "\n",
    "print(f\"RMSE для RandomForestRegressor на трейне: {train_rmse_rf:.2f}\")\n",
    "print(f\"Лучшие гиперпараметры: {grid_search.best_params_}\")"
   ]
  },
  {
   "cell_type": "markdown",
   "id": "ab1944a4",
   "metadata": {},
   "source": [
    "### CatBoost"
   ]
  },
  {
   "cell_type": "code",
   "execution_count": 19,
   "id": "30313375",
   "metadata": {},
   "outputs": [
    {
     "name": "stdout",
     "output_type": "stream",
     "text": [
      "Среднее RMSE для CatBoostRegressor на трейне: 18.93\n",
      "Лучшие гиперпараметры: {'depth': 5, 'iterations': 300, 'learning_rate': 0.05}\n"
     ]
    }
   ],
   "source": [
    "catboost_model = CatBoostRegressor(verbose=False, random_state=RANDOM_STATE)\n",
    "\n",
    "param_grid = {\n",
    "    'iterations': [300, 500, 700],\n",
    "    'learning_rate': [0.01, 0.05, 0.1],\n",
    "    'depth': [5, 7, 10]\n",
    "}\n",
    "\n",
    "tscv = TimeSeriesSplit(n_splits=3)\n",
    "\n",
    "grid_search_catboost = GridSearchCV(\n",
    "    estimator=catboost_model,\n",
    "    param_grid=param_grid,\n",
    "    cv=tscv,\n",
    "    scoring='neg_root_mean_squared_error',\n",
    "    n_jobs=-1\n",
    ")\n",
    "\n",
    "grid_search_catboost.fit(X_train, y_train)\n",
    "train_preds_cb = grid_search_catboost.predict(X_train)\n",
    "train_rmse_cb = mean_squared_error(y_train, train_preds_cb, squared=False)\n",
    "\n",
    "models.append([grid_search_catboost.best_estimator_, train_rmse_cb, grid_search_catboost.best_params_])\n",
    "\n",
    "print(f\"Среднее RMSE для CatBoostRegressor на трейне: {train_rmse_cb:.2f}\")\n",
    "print(f\"Лучшие гиперпараметры: {grid_search_catboost.best_params_}\")"
   ]
  },
  {
   "cell_type": "markdown",
   "id": "f9328e3a",
   "metadata": {},
   "source": [
    "### LGBM"
   ]
  },
  {
   "cell_type": "code",
   "execution_count": 20,
   "id": "c729955b",
   "metadata": {
    "scrolled": true
   },
   "outputs": [
    {
     "name": "stdout",
     "output_type": "stream",
     "text": [
      "Среднее RMSE для LGBMRegressor на трейне: 18.14\n",
      "Лучшие гиперпараметры: {'learning_rate': 0.05, 'max_depth': 5, 'n_estimators': 100, 'num_leaves': 50}\n"
     ]
    }
   ],
   "source": [
    "lgb_model = lgb.LGBMRegressor(verbose=-1, random_state=RANDOM_STATE)\n",
    "\n",
    "param_grid_lgb = {\n",
    "    'n_estimators': [100, 200, 300],\n",
    "    'learning_rate': [0.01, 0.05, 0.1],\n",
    "    'max_depth': [5, 7, 10],\n",
    "    'num_leaves': [31, 50, 70]\n",
    "}\n",
    "\n",
    "tscv = TimeSeriesSplit(n_splits=3)\n",
    "\n",
    "grid_search_lgb = GridSearchCV(\n",
    "    estimator=lgb_model,\n",
    "    param_grid=param_grid_lgb,\n",
    "    cv=tscv,\n",
    "    scoring='neg_root_mean_squared_error',\n",
    "    n_jobs=-1\n",
    ")\n",
    "\n",
    "grid_search_lgb.fit(X_train, y_train)\n",
    "train_preds_lgb = grid_search_lgb.predict(X_train)\n",
    "train_rmse_lgb = mean_squared_error(y_train, train_preds_lgb, squared=False)\n",
    "\n",
    "models.append([grid_search_lgb.best_estimator_, train_rmse_lgb, grid_search_lgb.best_params_])\n",
    "\n",
    "print(f\"Среднее RMSE для LGBMRegressor на трейне: {train_rmse_lgb:.2f}\")\n",
    "print(f\"Лучшие гиперпараметры: {grid_search_lgb.best_params_}\")"
   ]
  },
  {
   "cell_type": "markdown",
   "id": "9b1640ec",
   "metadata": {},
   "source": [
    "### Итог"
   ]
  },
  {
   "cell_type": "code",
   "execution_count": 21,
   "id": "7e27f2b0",
   "metadata": {
    "scrolled": true
   },
   "outputs": [
    {
     "data": {
      "text/html": [
       "<div>\n",
       "<style scoped>\n",
       "    .dataframe tbody tr th:only-of-type {\n",
       "        vertical-align: middle;\n",
       "    }\n",
       "\n",
       "    .dataframe tbody tr th {\n",
       "        vertical-align: top;\n",
       "    }\n",
       "\n",
       "    .dataframe thead th {\n",
       "        text-align: right;\n",
       "    }\n",
       "</style>\n",
       "<table border=\"1\" class=\"dataframe\">\n",
       "  <thead>\n",
       "    <tr style=\"text-align: right;\">\n",
       "      <th></th>\n",
       "      <th>model_name</th>\n",
       "      <th>rmse_train</th>\n",
       "      <th>best_params</th>\n",
       "    </tr>\n",
       "  </thead>\n",
       "  <tbody>\n",
       "    <tr>\n",
       "      <th>0</th>\n",
       "      <td>LGBMRegressor</td>\n",
       "      <td>18.14</td>\n",
       "      <td>{'learning_rate': 0.05, 'max_depth': 5, 'n_estimators': 100, 'num_leaves': 50}</td>\n",
       "    </tr>\n",
       "    <tr>\n",
       "      <th>1</th>\n",
       "      <td>RandomForestRegressor</td>\n",
       "      <td>18.21</td>\n",
       "      <td>{'max_depth': 7, 'n_estimators': 60}</td>\n",
       "    </tr>\n",
       "    <tr>\n",
       "      <th>2</th>\n",
       "      <td>CatBoostRegressor</td>\n",
       "      <td>18.93</td>\n",
       "      <td>{'depth': 5, 'iterations': 300, 'learning_rate': 0.05}</td>\n",
       "    </tr>\n",
       "    <tr>\n",
       "      <th>3</th>\n",
       "      <td>LinearRegression</td>\n",
       "      <td>23.44</td>\n",
       "      <td>None</td>\n",
       "    </tr>\n",
       "  </tbody>\n",
       "</table>\n",
       "</div>"
      ],
      "text/plain": [
       "              model_name  rmse_train  \\\n",
       "0          LGBMRegressor       18.14   \n",
       "1  RandomForestRegressor       18.21   \n",
       "2      CatBoostRegressor       18.93   \n",
       "3       LinearRegression       23.44   \n",
       "\n",
       "                                                                      best_params  \n",
       "0  {'learning_rate': 0.05, 'max_depth': 5, 'n_estimators': 100, 'num_leaves': 50}  \n",
       "1                                            {'max_depth': 7, 'n_estimators': 60}  \n",
       "2                          {'depth': 5, 'iterations': 300, 'learning_rate': 0.05}  \n",
       "3                                                                            None  "
      ]
     },
     "metadata": {},
     "output_type": "display_data"
    }
   ],
   "source": [
    "result_df = pd.DataFrame(models, columns=['model', 'rmse_train', 'best_params'])\n",
    "result_df['model_name'] = result_df['model'].apply(lambda x: type(x).__name__)\n",
    "result_df = result_df[['model_name', 'rmse_train', 'best_params']]\n",
    "result_df['rmse_train'] = result_df['rmse_train'].round(2)\n",
    "pd.options.display.max_colwidth = None\n",
    "\n",
    "display(result_df.sort_values(by='rmse_train').reset_index(drop=True))"
   ]
  },
  {
   "cell_type": "markdown",
   "id": "62502018",
   "metadata": {},
   "source": [
    "Лучший результат показала модель LGBM с RMSE 17.42 < 48 и параметрами {'learning_rate': 0.1, 'max_depth': 5, 'n_estimators': 100, 'num_leaves': 31}. Линейная регрессия все равно значительно проигрывает LGBM, соучайному лесу и CatBoost. Для прогона на тесте предлагаю взять только эти модели."
   ]
  },
  {
   "cell_type": "markdown",
   "id": "3da7d8b7",
   "metadata": {},
   "source": [
    "## Проверка на тестовой выборке"
   ]
  },
  {
   "cell_type": "code",
   "execution_count": 22,
   "id": "4443d687",
   "metadata": {},
   "outputs": [],
   "source": [
    "models_to_test = ['LGBMRegressor']\n",
    "\n",
    "test_models = []\n",
    "\n",
    "def display_result(target, pred, rmse):\n",
    "    result = target.to_frame().reset_index()\n",
    "    result['prediction'] = pd.Series(pred)\n",
    "    result.set_index('datetime', inplace=True)\n",
    "    print(f\"RMSE = {rmse:.2f}\")"
   ]
  },
  {
   "cell_type": "code",
   "execution_count": 23,
   "id": "4b28bcf5",
   "metadata": {},
   "outputs": [
    {
     "name": "stdout",
     "output_type": "stream",
     "text": [
      "RMSE = 39.70\n"
     ]
    }
   ],
   "source": [
    "for idx, entry in enumerate(models):\n",
    "    model = entry[0]\n",
    "    model_name = type(model).__name__\n",
    "\n",
    "    if model_name in models_to_test:\n",
    "        predictions = model.predict(X_test)\n",
    "        rmse = mean_squared_error(y_test, predictions, squared=False)\n",
    "\n",
    "        display_result(y_test, predictions, rmse)\n",
    "        test_models.append(rmse)\n",
    "        \n",
    "result_df_filtered = result_df[result_df['model_name'].isin(models_to_test)].copy()\n",
    "result_df_filtered['rmse_test'] = test_models"
   ]
  },
  {
   "cell_type": "code",
   "execution_count": 24,
   "id": "80ba4ca3",
   "metadata": {},
   "outputs": [
    {
     "data": {
      "text/html": [
       "<div>\n",
       "<style scoped>\n",
       "    .dataframe tbody tr th:only-of-type {\n",
       "        vertical-align: middle;\n",
       "    }\n",
       "\n",
       "    .dataframe tbody tr th {\n",
       "        vertical-align: top;\n",
       "    }\n",
       "\n",
       "    .dataframe thead th {\n",
       "        text-align: right;\n",
       "    }\n",
       "</style>\n",
       "<table border=\"1\" class=\"dataframe\">\n",
       "  <thead>\n",
       "    <tr style=\"text-align: right;\">\n",
       "      <th></th>\n",
       "      <th>model_name</th>\n",
       "      <th>rmse_train</th>\n",
       "      <th>best_params</th>\n",
       "      <th>rmse_test</th>\n",
       "    </tr>\n",
       "  </thead>\n",
       "  <tbody>\n",
       "    <tr>\n",
       "      <th>0</th>\n",
       "      <td>LGBMRegressor</td>\n",
       "      <td>18.14</td>\n",
       "      <td>{'learning_rate': 0.05, 'max_depth': 5, 'n_estimators': 100, 'num_leaves': 50}</td>\n",
       "      <td>39.704063</td>\n",
       "    </tr>\n",
       "  </tbody>\n",
       "</table>\n",
       "</div>"
      ],
      "text/plain": [
       "      model_name  rmse_train  \\\n",
       "0  LGBMRegressor       18.14   \n",
       "\n",
       "                                                                      best_params  \\\n",
       "0  {'learning_rate': 0.05, 'max_depth': 5, 'n_estimators': 100, 'num_leaves': 50}   \n",
       "\n",
       "   rmse_test  \n",
       "0  39.704063  "
      ]
     },
     "metadata": {},
     "output_type": "display_data"
    }
   ],
   "source": [
    "result_sorted = result_df_filtered.sort_values(by='rmse_test').reset_index(drop=True)\n",
    "display(result_sorted)"
   ]
  },
  {
   "cell_type": "markdown",
   "id": "63bed63b",
   "metadata": {},
   "source": [
    "## Вывод"
   ]
  },
  {
   "cell_type": "markdown",
   "id": "aeb83fe7",
   "metadata": {},
   "source": [
    "В ходе работы над данным проектом был изучен датасет taxi.csv, который содержит дату и время заказа такси, а также количество заказов. Мы рассемплировали время по часам и провели анализ временных рядов. Анализ временных рядов показал явный положительный тренд роста заказов с выраженной недельной сезонностью и шумами, которые могут быть обусловлены внешними или случайными факторами.  \n",
    "\n",
    "Далее были обучены 4 модели для предсказания количества заказов в следующий час: линейная регрессия, RandomForestRegressor, CatBoostRegressor и LGBMRegressor. Был произведен поиск лучших гиперпараметров по сетке, модели выдали следующие результаты:"
   ]
  },
  {
   "cell_type": "code",
   "execution_count": 25,
   "id": "d652673b",
   "metadata": {},
   "outputs": [
    {
     "data": {
      "text/html": [
       "<div>\n",
       "<style scoped>\n",
       "    .dataframe tbody tr th:only-of-type {\n",
       "        vertical-align: middle;\n",
       "    }\n",
       "\n",
       "    .dataframe tbody tr th {\n",
       "        vertical-align: top;\n",
       "    }\n",
       "\n",
       "    .dataframe thead th {\n",
       "        text-align: right;\n",
       "    }\n",
       "</style>\n",
       "<table border=\"1\" class=\"dataframe\">\n",
       "  <thead>\n",
       "    <tr style=\"text-align: right;\">\n",
       "      <th></th>\n",
       "      <th>model_name</th>\n",
       "      <th>rmse_train</th>\n",
       "      <th>best_params</th>\n",
       "    </tr>\n",
       "  </thead>\n",
       "  <tbody>\n",
       "    <tr>\n",
       "      <th>0</th>\n",
       "      <td>LGBMRegressor</td>\n",
       "      <td>18.14</td>\n",
       "      <td>{'learning_rate': 0.05, 'max_depth': 5, 'n_estimators': 100, 'num_leaves': 50}</td>\n",
       "    </tr>\n",
       "    <tr>\n",
       "      <th>1</th>\n",
       "      <td>RandomForestRegressor</td>\n",
       "      <td>18.21</td>\n",
       "      <td>{'max_depth': 7, 'n_estimators': 60}</td>\n",
       "    </tr>\n",
       "    <tr>\n",
       "      <th>2</th>\n",
       "      <td>CatBoostRegressor</td>\n",
       "      <td>18.93</td>\n",
       "      <td>{'depth': 5, 'iterations': 300, 'learning_rate': 0.05}</td>\n",
       "    </tr>\n",
       "    <tr>\n",
       "      <th>3</th>\n",
       "      <td>LinearRegression</td>\n",
       "      <td>23.44</td>\n",
       "      <td>None</td>\n",
       "    </tr>\n",
       "  </tbody>\n",
       "</table>\n",
       "</div>"
      ],
      "text/plain": [
       "              model_name  rmse_train  \\\n",
       "0          LGBMRegressor       18.14   \n",
       "1  RandomForestRegressor       18.21   \n",
       "2      CatBoostRegressor       18.93   \n",
       "3       LinearRegression       23.44   \n",
       "\n",
       "                                                                      best_params  \n",
       "0  {'learning_rate': 0.05, 'max_depth': 5, 'n_estimators': 100, 'num_leaves': 50}  \n",
       "1                                            {'max_depth': 7, 'n_estimators': 60}  \n",
       "2                          {'depth': 5, 'iterations': 300, 'learning_rate': 0.05}  \n",
       "3                                                                            None  "
      ]
     },
     "metadata": {},
     "output_type": "display_data"
    }
   ],
   "source": [
    "display(result_df.sort_values(by='rmse_train').reset_index(drop=True))"
   ]
  },
  {
   "cell_type": "markdown",
   "id": "1211cc02",
   "metadata": {},
   "source": [
    "Далее мы прогнали тестовую выборку, которая составляет 10% от исходных данных, через обученные модели. Результаты вышли следующими:"
   ]
  },
  {
   "cell_type": "code",
   "execution_count": 26,
   "id": "6036de23",
   "metadata": {},
   "outputs": [
    {
     "data": {
      "text/html": [
       "<div>\n",
       "<style scoped>\n",
       "    .dataframe tbody tr th:only-of-type {\n",
       "        vertical-align: middle;\n",
       "    }\n",
       "\n",
       "    .dataframe tbody tr th {\n",
       "        vertical-align: top;\n",
       "    }\n",
       "\n",
       "    .dataframe thead th {\n",
       "        text-align: right;\n",
       "    }\n",
       "</style>\n",
       "<table border=\"1\" class=\"dataframe\">\n",
       "  <thead>\n",
       "    <tr style=\"text-align: right;\">\n",
       "      <th></th>\n",
       "      <th>model_name</th>\n",
       "      <th>rmse_train</th>\n",
       "      <th>best_params</th>\n",
       "      <th>rmse_test</th>\n",
       "    </tr>\n",
       "  </thead>\n",
       "  <tbody>\n",
       "    <tr>\n",
       "      <th>0</th>\n",
       "      <td>LGBMRegressor</td>\n",
       "      <td>18.14</td>\n",
       "      <td>{'learning_rate': 0.05, 'max_depth': 5, 'n_estimators': 100, 'num_leaves': 50}</td>\n",
       "      <td>39.704063</td>\n",
       "    </tr>\n",
       "  </tbody>\n",
       "</table>\n",
       "</div>"
      ],
      "text/plain": [
       "      model_name  rmse_train  \\\n",
       "0  LGBMRegressor       18.14   \n",
       "\n",
       "                                                                      best_params  \\\n",
       "0  {'learning_rate': 0.05, 'max_depth': 5, 'n_estimators': 100, 'num_leaves': 50}   \n",
       "\n",
       "   rmse_test  \n",
       "0  39.704063  "
      ]
     },
     "execution_count": 26,
     "metadata": {},
     "output_type": "execute_result"
    }
   ],
   "source": [
    "result_sorted"
   ]
  },
  {
   "cell_type": "markdown",
   "id": "cb8cb6d0",
   "metadata": {},
   "source": [
    "**В финале оставила только LGBM как лучшую модель.**"
   ]
  },
  {
   "cell_type": "markdown",
   "id": "a161e0e9",
   "metadata": {},
   "source": [
    "**Поскольку на заказы такси могут влиять различные внешние факторы (погода, праздники, акции сервиса и т.д.), тестовая выборка включает больше \"шумов\", не представленных в трейне. Отсюда и ошибка на тестовой выборке может быть больше, чем на тренировочной.**"
   ]
  },
  {
   "cell_type": "code",
   "execution_count": 27,
   "id": "3c64fdfb",
   "metadata": {},
   "outputs": [
    {
     "name": "stdout",
     "output_type": "stream",
     "text": [
      "RMSE наивной модели: 58.82\n"
     ]
    }
   ],
   "source": [
    "pred_previous = y_test.shift()\n",
    "pred_previous.iloc[0] = y_train.iloc[-1] \n",
    "\n",
    "rmse_naive = mean_squared_error(y_test, pred_previous, squared=False)\n",
    "print(f\"RMSE наивной модели: {rmse_naive:.2f}\")"
   ]
  },
  {
   "cell_type": "markdown",
   "id": "f942c032",
   "metadata": {},
   "source": [
    "RMSE наивной модели составил 58.82, что заметно хуже качества построенных моделей и не проходит критерий верхнего допустимого порога RMSE = 48 => к использованию рекомендуются уже обученные модели."
   ]
  },
  {
   "cell_type": "markdown",
   "id": "816546f1",
   "metadata": {},
   "source": [
    "**Таким образом, беря во внимание критерий заказчика об ошибке модели RMSE < 48, предлагаю к использованию модель LGBMRegressor. Она показала наименьшую ошибку RMSE = 39.7 на тесте и RMSE = 18.1 на тренировочной выборке, идеально подходит для данного проекта**"
   ]
  }
 ],
 "metadata": {
  "ExecuteTimeLog": [
   {
    "duration": 20,
    "start_time": "2025-04-28T07:39:30.957Z"
   },
   {
    "duration": 15,
    "start_time": "2025-04-28T07:39:30.980Z"
   },
   {
    "duration": 25151,
    "start_time": "2025-04-28T07:39:30.997Z"
   },
   {
    "duration": 2787,
    "start_time": "2025-04-28T07:39:56.150Z"
   },
   {
    "duration": 3332,
    "start_time": "2025-04-28T07:39:58.940Z"
   },
   {
    "duration": 91,
    "start_time": "2025-04-28T07:40:02.274Z"
   },
   {
    "duration": 4,
    "start_time": "2025-04-28T07:40:02.368Z"
   },
   {
    "duration": 105,
    "start_time": "2025-04-28T07:40:02.374Z"
   },
   {
    "duration": 132,
    "start_time": "2025-04-28T07:40:02.481Z"
   },
   {
    "duration": 0,
    "start_time": "2025-04-28T07:40:02.615Z"
   },
   {
    "duration": 0,
    "start_time": "2025-04-28T07:40:02.616Z"
   },
   {
    "duration": 0,
    "start_time": "2025-04-28T07:40:02.618Z"
   },
   {
    "duration": 0,
    "start_time": "2025-04-28T07:40:02.619Z"
   },
   {
    "duration": 0,
    "start_time": "2025-04-28T07:40:02.620Z"
   },
   {
    "duration": 0,
    "start_time": "2025-04-28T07:40:02.621Z"
   },
   {
    "duration": 0,
    "start_time": "2025-04-28T07:40:02.622Z"
   }
  ],
  "kernelspec": {
   "display_name": "Python 3",
   "language": "python",
   "name": "python3"
  },
  "language_info": {
   "codemirror_mode": {
    "name": "ipython",
    "version": 3
   },
   "file_extension": ".py",
   "mimetype": "text/x-python",
   "name": "python",
   "nbconvert_exporter": "python",
   "pygments_lexer": "ipython3",
   "version": "3.8.8"
  },
  "toc": {
   "base_numbering": 1,
   "nav_menu": {},
   "number_sections": true,
   "sideBar": true,
   "skip_h1_title": true,
   "title_cell": "Table of Contents",
   "title_sidebar": "Contents",
   "toc_cell": false,
   "toc_position": {},
   "toc_section_display": true,
   "toc_window_display": false
  }
 },
 "nbformat": 4,
 "nbformat_minor": 5
}
